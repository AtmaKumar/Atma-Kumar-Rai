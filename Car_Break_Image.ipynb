{
  "nbformat": 4,
  "nbformat_minor": 0,
  "metadata": {
    "colab": {
      "name": "Car_Break_Image.ipynb",
      "provenance": []
    },
    "kernelspec": {
      "name": "python3",
      "display_name": "Python 3"
    }
  },
  "cells": [
    {
      "cell_type": "code",
      "metadata": {
        "id": "_3Z_SiGSnjMT",
        "colab_type": "code",
        "colab": {}
      },
      "source": [
        "from os import listdir\n",
        "from PIL import Image\n",
        "from numpy import asarray\n",
        "from matplotlib import pyplot"
      ],
      "execution_count": 6,
      "outputs": []
    },
    {
      "cell_type": "code",
      "metadata": {
        "id": "WZ8mmMlxVtnM",
        "colab_type": "code",
        "colab": {}
      },
      "source": [
        ""
      ],
      "execution_count": null,
      "outputs": []
    },
    {
      "cell_type": "code",
      "metadata": {
        "id": "rQjPKEsScMhC",
        "colab_type": "code",
        "colab": {}
      },
      "source": [
        ""
      ],
      "execution_count": null,
      "outputs": []
    },
    {
      "cell_type": "code",
      "metadata": {
        "id": "DyKRj7MnrLOg",
        "colab_type": "code",
        "colab": {}
      },
      "source": [
        "# example of loading the vgg16 model\n",
        "from keras.applications.vgg16 import VGG16"
      ],
      "execution_count": null,
      "outputs": []
    },
    {
      "cell_type": "code",
      "metadata": {
        "id": "qi3mz3S5cLb9",
        "colab_type": "code",
        "colab": {
          "base_uri": "https://localhost:8080/",
          "height": 1000
        },
        "outputId": "145cee51-ac20-4810-e239-b4eda5d26323"
      },
      "source": [
        "!unzip /content/Data.zip"
      ],
      "execution_count": 1,
      "outputs": [
        {
          "output_type": "stream",
          "text": [
            "Archive:  /content/Data.zip\n",
            "   creating: Data/\n",
            "   creating: Data/Test/\n",
            "   creating: Data/Test/bumper_dent/\n",
            "  inflating: Data/Test/bumper_dent/door_dent_168.jpg  \n",
            "  inflating: Data/Test/bumper_dent/door_dent_238.jpg  \n",
            "  inflating: Data/Test/bumper_dent/door_dent_411.jpg  \n",
            "  inflating: Data/Test/bumper_dent/door_dent_452.jpg  \n",
            "  inflating: Data/Test/bumper_dent/door_dent_54.jpg  \n",
            "  inflating: Data/Test/bumper_dent/got-rear-ended-right-after-i-left-the-car-lot-in-my-new-car-insurance-wants-to-repair-a-hole-in-the-bumper.jpg  \n",
            "  inflating: Data/Test/bumper_dent/IMG_0328.jpg  \n",
            "  inflating: Data/Test/bumper_dent/istockphoto-474419115-612x612.jpg  \n",
            "  inflating: Data/Test/bumper_dent/LYnd8jo.jpg  \n",
            "  inflating: Data/Test/bumper_dent/new-car-door-cost-left-quarter-bumper-damage-the-quarter-panel-was-repaired.jpg  \n",
            "  inflating: Data/Test/bumper_dent/PB190061.JPG  \n",
            "  inflating: Data/Test/bumper_dent/RO 4944 005.jpg  \n",
            "  inflating: Data/Test/bumper_dent/RO 8169 6-1-2015 5-52-43 PM.JPG  \n",
            "  inflating: Data/Test/bumper_dent/RO 8236 6-17-2015 1-47-50 PM.JPG  \n",
            "  inflating: Data/Test/bumper_dent/scratched_car_163.jpg  \n",
            "  inflating: Data/Test/bumper_dent/scratched_car_237.jpg  \n",
            "  inflating: Data/Test/bumper_dent/scratched_car_265.jpg  \n",
            "  inflating: Data/Test/bumper_dent/scratched_car_293.jpg  \n",
            "  inflating: Data/Test/bumper_dent/scratched_car_389.jpg  \n",
            "  inflating: Data/Test/bumper_dent/scratched_car_95.jpg  \n",
            "  inflating: Data/Test/bumper_dent/screen_shot_2018_10_03_at_9_56_32_pm_eca8a14211d7316455a682fd1b9c884cc52b06b5.png  \n",
            "  inflating: Data/Test/bumper_dent/T4R Bumper 1.JPG  \n",
            "  inflating: Data/Test/bumper_dent/v7o2g5bako5z.jpg  \n",
            "  inflating: Data/Test/bumper_dent/wp-image-1733278551jpg.jpeg  \n",
            "   creating: Data/Test/bumper_scratch/\n",
            "  inflating: Data/Test/bumper_scratch/scratched_car_261.jpg  \n",
            "  inflating: Data/Test/bumper_scratch/scratched_car_264.jpg  \n",
            "  inflating: Data/Test/bumper_scratch/scratched_car_277.jpg  \n",
            "  inflating: Data/Test/bumper_scratch/scratched_car_280.jpg  \n",
            "  inflating: Data/Test/bumper_scratch/scratched_car_286.jpg  \n",
            "  inflating: Data/Test/bumper_scratch/scratched_car_298.jpg  \n",
            "  inflating: Data/Test/bumper_scratch/scratched_car_301.jpg  \n",
            "  inflating: Data/Test/bumper_scratch/scratched_car_304.jpg  \n",
            "  inflating: Data/Test/bumper_scratch/scratched_car_313.jpg  \n",
            "  inflating: Data/Test/bumper_scratch/scratched_car_315.jpg  \n",
            "  inflating: Data/Test/bumper_scratch/scratched_car_348.jpg  \n",
            "  inflating: Data/Test/bumper_scratch/scratched_car_378.jpg  \n",
            "  inflating: Data/Test/bumper_scratch/scratched_car_424.jpg  \n",
            "  inflating: Data/Test/bumper_scratch/scratched_car_436.jpg  \n",
            "  inflating: Data/Test/bumper_scratch/wesite_bmv_28.jpg  \n",
            "   creating: Data/Test/Damaged/\n",
            "  inflating: Data/Test/Damaged/smashed_car_278.jpg  \n",
            "  inflating: Data/Test/Damaged/smashed_car_282.jpg  \n",
            "  inflating: Data/Test/Damaged/smashed_car_295.jpg  \n",
            "  inflating: Data/Test/Damaged/smashed_car_305.jpeg  \n",
            "  inflating: Data/Test/Damaged/smashed_car_305.jpg  \n",
            "  inflating: Data/Test/Damaged/smashed_car_318.jpg  \n",
            "  inflating: Data/Test/Damaged/smashed_car_319.jpg  \n",
            "  inflating: Data/Test/Damaged/smashed_car_324.jpg  \n",
            "  inflating: Data/Test/Damaged/smashed_car_326.jpg  \n",
            "  inflating: Data/Test/Damaged/smashed_car_327.jpg  \n",
            "  inflating: Data/Test/Damaged/smashed_car_329.jpg  \n",
            "  inflating: Data/Test/Damaged/smashed_car_331.png  \n",
            "  inflating: Data/Test/Damaged/smashed_car_336.jpg  \n",
            "  inflating: Data/Test/Damaged/smashed_car_338.jpg  \n",
            "  inflating: Data/Test/Damaged/smashed_car_343.jpg  \n",
            "  inflating: Data/Test/Damaged/smashed_car_345.jpg  \n",
            "  inflating: Data/Test/Damaged/smashed_car_356.jpg  \n",
            "  inflating: Data/Test/Damaged/smashed_car_357.jpg  \n",
            "  inflating: Data/Test/Damaged/smashed_car_371.jpg  \n",
            "  inflating: Data/Test/Damaged/smashed_car_380.jpg  \n",
            "  inflating: Data/Test/Damaged/smashed_car_393.jpg  \n",
            "  inflating: Data/Test/Damaged/smashed_car_396.jpg  \n",
            "  inflating: Data/Test/Damaged/smashed_car_406.jpg  \n",
            "  inflating: Data/Test/Damaged/smashed_car_408.jpg  \n",
            "  inflating: Data/Test/Damaged/smashed_car_419.jpeg  \n",
            "  inflating: Data/Test/Damaged/smashed_car_425.jpg  \n",
            "  inflating: Data/Test/Damaged/smashed_car_427.jpg  \n",
            "  inflating: Data/Test/Damaged/smashed_car_431.jpg  \n",
            "  inflating: Data/Test/Damaged/smashed_car_434.jpg  \n",
            "  inflating: Data/Test/Damaged/smashed_car_449.jpg  \n",
            "  inflating: Data/Test/Damaged/smashed_car_451.jpg  \n",
            "  inflating: Data/Test/Damaged/smashed_car_452.jpg  \n",
            "  inflating: Data/Test/Damaged/smashed_car_463.jpg  \n",
            "  inflating: Data/Test/Damaged/smashed_car_467.jpg  \n",
            "  inflating: Data/Test/Damaged/smashed_car_484.jpg  \n",
            "  inflating: Data/Test/Damaged/smashed_car_490.jpg  \n",
            "   creating: Data/Test/door_dent/\n",
            "  inflating: Data/Test/door_dent/door_dent_179.jpg  \n",
            "  inflating: Data/Test/door_dent/door_dent_180.jpg  \n",
            "  inflating: Data/Test/door_dent/door_dent_183.jpg  \n",
            "  inflating: Data/Test/door_dent/door_dent_184.jpg  \n",
            "  inflating: Data/Test/door_dent/door_dent_192.jpeg  \n",
            "  inflating: Data/Test/door_dent/door_dent_196.jpg  \n",
            "  inflating: Data/Test/door_dent/door_dent_198.jpg  \n",
            "  inflating: Data/Test/door_dent/door_dent_203.jpg  \n",
            "  inflating: Data/Test/door_dent/door_dent_208.jpg  \n",
            "  inflating: Data/Test/door_dent/door_dent_215.jpg  \n",
            "  inflating: Data/Test/door_dent/door_dent_216.jpg  \n",
            "  inflating: Data/Test/door_dent/door_dent_219.jpg  \n",
            "  inflating: Data/Test/door_dent/door_dent_228.jpg  \n",
            "  inflating: Data/Test/door_dent/door_dent_232.jpg  \n",
            "  inflating: Data/Test/door_dent/door_dent_233.jpg  \n",
            "  inflating: Data/Test/door_dent/door_dent_234.jpg  \n",
            "  inflating: Data/Test/door_dent/door_dent_242.jpg  \n",
            "  inflating: Data/Test/door_dent/door_dent_247.jpg  \n",
            "  inflating: Data/Test/door_dent/door_dent_248.jpg  \n",
            "  inflating: Data/Test/door_dent/door_dent_249.jpg  \n",
            "  inflating: Data/Test/door_dent/door_dent_253.jpg  \n",
            "  inflating: Data/Test/door_dent/door_dent_257.jpg  \n",
            "  inflating: Data/Test/door_dent/door_dent_262.jpg  \n",
            "  inflating: Data/Test/door_dent/door_dent_264.jpg  \n",
            "  inflating: Data/Test/door_dent/door_dent_266.jpg  \n",
            "  inflating: Data/Test/door_dent/door_dent_270.jpg  \n",
            "  inflating: Data/Test/door_dent/door_dent_278.jpg  \n",
            "  inflating: Data/Test/door_dent/door_dent_286.jpg  \n",
            "  inflating: Data/Test/door_dent/door_dent_295.jpg  \n",
            "  inflating: Data/Test/door_dent/door_dent_330.jpg  \n",
            "  inflating: Data/Test/door_dent/door_dent_331.jpg  \n",
            "  inflating: Data/Test/door_dent/door_dent_337.jpg  \n",
            "  inflating: Data/Test/door_dent/door_dent_346.jpg  \n",
            "  inflating: Data/Test/door_dent/door_dent_347.jpg  \n",
            "  inflating: Data/Test/door_dent/door_dent_348.jpg  \n",
            "   creating: Data/Test/door_scratch/\n",
            "  inflating: Data/Test/door_scratch/scratched_car_105.jpg  \n",
            "  inflating: Data/Test/door_scratch/scratched_car_107.jpg  \n",
            "  inflating: Data/Test/door_scratch/scratched_car_109.jpg  \n",
            "  inflating: Data/Test/door_scratch/scratched_car_112.jpg  \n",
            "  inflating: Data/Test/door_scratch/scratched_car_118.jpg  \n",
            "  inflating: Data/Test/door_scratch/scratched_car_131.jpg  \n",
            "  inflating: Data/Test/door_scratch/scratched_car_134.jpg  \n",
            "  inflating: Data/Test/door_scratch/scratched_car_137.jpg  \n",
            "  inflating: Data/Test/door_scratch/scratched_car_139.jpg  \n",
            "  inflating: Data/Test/door_scratch/scratched_car_144.jpg  \n",
            "  inflating: Data/Test/door_scratch/scratched_car_154.jpg  \n",
            "  inflating: Data/Test/door_scratch/scratched_car_157.jpg  \n",
            "  inflating: Data/Test/door_scratch/scratched_car_161.jpg  \n",
            "  inflating: Data/Test/door_scratch/scratched_car_169.jpg  \n",
            "  inflating: Data/Test/door_scratch/scratched_car_171.jpg  \n",
            "  inflating: Data/Test/door_scratch/scratched_car_175.jpg  \n",
            "  inflating: Data/Test/door_scratch/scratched_car_190.jpg  \n",
            "  inflating: Data/Test/door_scratch/scratched_car_194.png  \n",
            "  inflating: Data/Test/door_scratch/scratched_car_197.jpg  \n",
            "  inflating: Data/Test/door_scratch/scratched_car_70.jpg  \n",
            "  inflating: Data/Test/door_scratch/scratched_car_71.jpg  \n",
            "  inflating: Data/Test/door_scratch/scratched_car_76.jpg  \n",
            "  inflating: Data/Test/door_scratch/scratched_car_81.jpg  \n",
            "  inflating: Data/Test/door_scratch/scratched_car_86.jpg  \n",
            "   creating: Data/Test/glass_shatter/\n",
            "  inflating: Data/Test/glass_shatter/car_glass_broken_272.jpg  \n",
            "  inflating: Data/Test/glass_shatter/car_glass_broken_277.png  \n",
            "  inflating: Data/Test/glass_shatter/car_glass_broken_279.png  \n",
            "  inflating: Data/Test/glass_shatter/car_glass_broken_301.jpg  \n",
            "  inflating: Data/Test/glass_shatter/car_glass_broken_342.jpg  \n",
            "  inflating: Data/Test/glass_shatter/car_glass_broken_356.png  \n",
            "  inflating: Data/Test/glass_shatter/car_glass_broken_358.jpg  \n",
            "  inflating: Data/Test/glass_shatter/car_glass_broken_361.jpg  \n",
            "  inflating: Data/Test/glass_shatter/car_glass_broken_392.jpg  \n",
            "  inflating: Data/Test/glass_shatter/car_glass_broken_400.jpg  \n",
            "  inflating: Data/Test/glass_shatter/car_glass_broken_417.jpg  \n",
            "  inflating: Data/Test/glass_shatter/car_glass_broken_441.jpg  \n",
            "  inflating: Data/Test/glass_shatter/car_glass_broken_472.jpg  \n",
            "  inflating: Data/Test/glass_shatter/car_glass_broken_489.jpg  \n",
            "  inflating: Data/Test/glass_shatter/scratched_car_485.jpg  \n",
            "  inflating: Data/Test/glass_shatter/smashed_car_10.jpg  \n",
            "  inflating: Data/Test/glass_shatter/smashed_car_108.jpg  \n",
            "  inflating: Data/Test/glass_shatter/smashed_car_145.jpg  \n",
            "  inflating: Data/Test/glass_shatter/smashed_car_32.jpg  \n",
            "  inflating: Data/Test/glass_shatter/smashed_car_47.jpg  \n",
            "  inflating: Data/Test/glass_shatter/smashed_car_50.jpg  \n",
            "  inflating: Data/Test/glass_shatter/smashed_car_61.jpg  \n",
            "  inflating: Data/Test/glass_shatter/smashed_car_76.jpg  \n",
            "  inflating: Data/Test/glass_shatter/smashed_car_90.jpg  \n",
            "  inflating: Data/Test/glass_shatter/smashed_car_98.jpg  \n",
            "   creating: Data/Test/head_lamp/\n",
            "  inflating: Data/Test/head_lamp/color-image-of-a-crashed-car-with-broken-headlight-HG2TRB.jpg  \n",
            "  inflating: Data/Test/head_lamp/damaged_headlight_140.jpg  \n",
            "  inflating: Data/Test/head_lamp/damaged_headlight_148.jpg  \n",
            "  inflating: Data/Test/head_lamp/damaged_headlight_156.jpg  \n",
            "  inflating: Data/Test/head_lamp/damaged_headlight_17.jpg  \n",
            "  inflating: Data/Test/head_lamp/damaged_headlight_178.jpg  \n",
            "  inflating: Data/Test/head_lamp/damaged_headlight_19.jpg  \n",
            "  inflating: Data/Test/head_lamp/damaged_headlight_193.jpg  \n",
            "  inflating: Data/Test/head_lamp/damaged_headlight_20.jpg  \n",
            "  inflating: Data/Test/head_lamp/damaged_headlight_204.jpg  \n",
            "  inflating: Data/Test/head_lamp/damaged_headlight_211.jpg  \n",
            "  inflating: Data/Test/head_lamp/damaged_headlight_22.jpg  \n",
            "  inflating: Data/Test/head_lamp/damaged_headlight_24.jpg  \n",
            "  inflating: Data/Test/head_lamp/damaged_headlight_25.jpg  \n",
            "  inflating: Data/Test/head_lamp/damaged_headlight_26.jpg  \n",
            "  inflating: Data/Test/head_lamp/damaged_headlight_28.jpg  \n",
            "  inflating: Data/Test/head_lamp/damaged_headlight_49.jpg  \n",
            "  inflating: Data/Test/head_lamp/damaged_headlight_50.jpg  \n",
            "  inflating: Data/Test/head_lamp/damaged_headlight_6.jpg  \n",
            "  inflating: Data/Test/head_lamp/damaged_headlight_73.jpg  \n",
            "  inflating: Data/Test/head_lamp/damaged_headlight_82.jpg  \n",
            "  inflating: Data/Test/head_lamp/damaged_headlight_88.jpg  \n",
            "  inflating: Data/Test/head_lamp/damaged_headlight_9.jpg  \n",
            "  inflating: Data/Test/head_lamp/depositphotos_131836400-stock-photo-crashed-car-headlight-detail.jpg  \n",
            "  inflating: Data/Test/head_lamp/depositphotos_225958682-stock-photo-broken-headlight-car.jpg  \n",
            "  inflating: Data/Test/head_lamp/download (1).jpeg  \n",
            "   creating: Data/Test/No Damaged/\n",
            "  inflating: Data/Test/No Damaged/0156.jpg  \n",
            "  inflating: Data/Test/No Damaged/0157.jpg  \n",
            "  inflating: Data/Test/No Damaged/0158.jpg  \n",
            "  inflating: Data/Test/No Damaged/0159.jpg  \n",
            "  inflating: Data/Test/No Damaged/0160.jpg  \n",
            "  inflating: Data/Test/No Damaged/0161.jpg  \n",
            "  inflating: Data/Test/No Damaged/0162.jpg  \n",
            "  inflating: Data/Test/No Damaged/0163.jpg  \n",
            "  inflating: Data/Test/No Damaged/0164.jpg  \n",
            "  inflating: Data/Test/No Damaged/0165.jpg  \n",
            "  inflating: Data/Test/No Damaged/0166.jpg  \n",
            "  inflating: Data/Test/No Damaged/0167.jpg  \n",
            "  inflating: Data/Test/No Damaged/0168.jpg  \n",
            "  inflating: Data/Test/No Damaged/0169.jpg  \n",
            "  inflating: Data/Test/No Damaged/0170.jpg  \n",
            "  inflating: Data/Test/No Damaged/0171.jpg  \n",
            "  inflating: Data/Test/No Damaged/0172.jpg  \n",
            "  inflating: Data/Test/No Damaged/0173.jpg  \n",
            "  inflating: Data/Test/No Damaged/0174.jpg  \n",
            "  inflating: Data/Test/No Damaged/0175.jpg  \n",
            "  inflating: Data/Test/No Damaged/0176.jpg  \n",
            "  inflating: Data/Test/No Damaged/0177.jpg  \n",
            "  inflating: Data/Test/No Damaged/0178.jpg  \n",
            "  inflating: Data/Test/No Damaged/0179.jpg  \n",
            "  inflating: Data/Test/No Damaged/0180.jpg  \n",
            "  inflating: Data/Test/No Damaged/0181.jpg  \n",
            "  inflating: Data/Test/No Damaged/0182.jpg  \n",
            "  inflating: Data/Test/No Damaged/0183.jpg  \n",
            "  inflating: Data/Test/No Damaged/0184.jpg  \n",
            "  inflating: Data/Test/No Damaged/0185.jpg  \n",
            "  inflating: Data/Test/No Damaged/0186.jpg  \n",
            "  inflating: Data/Test/No Damaged/0187.jpg  \n",
            "  inflating: Data/Test/No Damaged/0188.jpg  \n",
            "  inflating: Data/Test/No Damaged/0189.jpg  \n",
            "  inflating: Data/Test/No Damaged/0190.jpg  \n",
            "  inflating: Data/Test/No Damaged/0191.jpg  \n",
            "  inflating: Data/Test/No Damaged/0192.jpg  \n",
            "  inflating: Data/Test/No Damaged/0193.jpg  \n",
            "  inflating: Data/Test/No Damaged/0194.jpg  \n",
            "  inflating: Data/Test/No Damaged/0195.jpg  \n",
            "  inflating: Data/Test/No Damaged/0196.jpg  \n",
            "  inflating: Data/Test/No Damaged/0197.jpg  \n",
            "  inflating: Data/Test/No Damaged/0198.jpg  \n",
            "  inflating: Data/Test/No Damaged/0199.jpg  \n",
            "  inflating: Data/Test/No Damaged/0200.jpg  \n",
            "  inflating: Data/Test/No Damaged/0201.jpg  \n",
            "  inflating: Data/Test/No Damaged/0202.jpg  \n",
            "   creating: Data/Test/tail_lamp/\n",
            "  inflating: Data/Test/tail_lamp/damaged_tail_light_cover_car_351.jpg  \n",
            "  inflating: Data/Test/tail_lamp/damaged_tail_light_cover_car_381.jpg  \n",
            "  inflating: Data/Test/tail_lamp/damaged_tail_light_cover_car_430.jpg  \n",
            "  inflating: Data/Test/tail_lamp/damaged_tail_light_cover_car_451.jpg  \n",
            "  inflating: Data/Test/tail_lamp/damaged_tail_light_cover_car_471.jpg  \n",
            "  inflating: Data/Test/tail_lamp/damaged_tail_light_cover_car_479.jpg  \n",
            "  inflating: Data/Test/tail_lamp/damaged_tail_light_cover_car_496.jpg  \n",
            "  inflating: Data/Test/tail_lamp/depositphotos_147206007-stock-photo-broken-tail-lamp.jpg  \n",
            "  inflating: Data/Test/tail_lamp/do-it-yourself-repair-job-with-pipe-tape-to-a-rear-tail-light-and-j4yrkd.jpg  \n",
            "  inflating: Data/Test/tail_lamp/Dollarphotoclub_80212431.jpg  \n",
            "  inflating: Data/Test/tail_lamp/eyeem-102842149.jpg  \n",
            "  inflating: Data/Test/tail_lamp/ior9d4pbxjqy.jpg  \n",
            "  inflating: Data/Test/tail_lamp/maxresdefault.jpg  \n",
            "  inflating: Data/Test/tail_lamp/o.jpg  \n",
            "  inflating: Data/Test/tail_lamp/pravila-samooborony_152.jpg  \n",
            "  inflating: Data/Test/tail_lamp/scratched_car_211.jpg  \n",
            "  inflating: Data/Test/tail_lamp/snapshot200605210222545zc.6756.jpg  \n",
            "  inflating: Data/Test/tail_lamp/subaru-legacy-broken-taillight-07.jpeg  \n",
            "  inflating: Data/Test/tail_lamp/Tail-lamp_broken_2.jpg  \n",
            "  inflating: Data/Test/tail_lamp/Tail-lamp_broken_4.jpg  \n",
            "   creating: Data/Train/\n",
            "   creating: Data/Train/bumper_dent/\n",
            "  inflating: Data/Train/bumper_dent/0193.JPEG  \n",
            "  inflating: Data/Train/bumper_dent/0210.JPEG  \n",
            "  inflating: Data/Train/bumper_dent/0211.jpeg  \n",
            "  inflating: Data/Train/bumper_dent/0241.jpeg  \n",
            "  inflating: Data/Train/bumper_dent/20150310_0858571.jpg  \n",
            "  inflating: Data/Train/bumper_dent/70312998_f89a6ac2ba_b.jpg  \n",
            "  inflating: Data/Train/bumper_dent/8998Bumper_Damage_02.jpg  \n",
            "  inflating: Data/Train/bumper_dent/auto-accident-bumper-damage-fender-bender-click-here-save-americanlisted_35602083.jpg  \n",
            "  inflating: Data/Train/bumper_dent/bumper (Medium).jpg  \n",
            "  inflating: Data/Train/bumper_dent/bumper_dent_0.jpg  \n",
            "  inflating: Data/Train/bumper_dent/bumper_dent_105.jpg  \n",
            "  inflating: Data/Train/bumper_dent/bumper_dent_106.jpg  \n",
            "  inflating: Data/Train/bumper_dent/bumper_dent_11.jpg  \n",
            "  inflating: Data/Train/bumper_dent/bumper_dent_110.jpg  \n",
            "  inflating: Data/Train/bumper_dent/bumper_dent_112.jpg  \n",
            "  inflating: Data/Train/bumper_dent/bumper_dent_113.jpg  \n",
            "  inflating: Data/Train/bumper_dent/bumper_dent_114.jpg  \n",
            "  inflating: Data/Train/bumper_dent/bumper_dent_116.jpg  \n",
            "  inflating: Data/Train/bumper_dent/bumper_dent_118.jpeg  \n",
            "  inflating: Data/Train/bumper_dent/bumper_dent_12.jpg  \n",
            "  inflating: Data/Train/bumper_dent/bumper_dent_127.jpg  \n",
            "  inflating: Data/Train/bumper_dent/bumper_dent_128.jpg  \n",
            "  inflating: Data/Train/bumper_dent/bumper_dent_130.jpg  \n",
            "  inflating: Data/Train/bumper_dent/bumper_dent_131.jpg  \n",
            "  inflating: Data/Train/bumper_dent/bumper_dent_136.jpg  \n",
            "  inflating: Data/Train/bumper_dent/bumper_dent_137.jpg  \n",
            "  inflating: Data/Train/bumper_dent/bumper_dent_138.jpg  \n",
            "  inflating: Data/Train/bumper_dent/bumper_dent_139.jpg  \n",
            "  inflating: Data/Train/bumper_dent/bumper_dent_14.jpg  \n",
            "  inflating: Data/Train/bumper_dent/bumper_dent_141.jpg  \n",
            "  inflating: Data/Train/bumper_dent/bumper_dent_146.jpg  \n",
            "  inflating: Data/Train/bumper_dent/bumper_dent_15.jpg  \n",
            "  inflating: Data/Train/bumper_dent/bumper_dent_150.jpg  \n",
            "  inflating: Data/Train/bumper_dent/bumper_dent_152.jpg  \n",
            "  inflating: Data/Train/bumper_dent/bumper_dent_16.jpg  \n",
            "  inflating: Data/Train/bumper_dent/bumper_dent_160.jpg  \n",
            "  inflating: Data/Train/bumper_dent/bumper_dent_161.jpg  \n",
            "  inflating: Data/Train/bumper_dent/bumper_dent_164.jpg  \n",
            "  inflating: Data/Train/bumper_dent/bumper_dent_165.jpg  \n",
            "  inflating: Data/Train/bumper_dent/bumper_dent_167.jpg  \n",
            "  inflating: Data/Train/bumper_dent/bumper_dent_174.jpg  \n",
            "  inflating: Data/Train/bumper_dent/bumper_dent_175.jpg  \n",
            "  inflating: Data/Train/bumper_dent/bumper_dent_178.jpg  \n",
            "  inflating: Data/Train/bumper_dent/bumper_dent_18.jpg  \n",
            "  inflating: Data/Train/bumper_dent/bumper_dent_182.jpg  \n",
            "  inflating: Data/Train/bumper_dent/bumper_dent_185.jpg  \n",
            "  inflating: Data/Train/bumper_dent/bumper_dent_187.jpg  \n",
            "  inflating: Data/Train/bumper_dent/bumper_dent_19.jpg  \n",
            "  inflating: Data/Train/bumper_dent/bumper_dent_193.jpg  \n",
            "  inflating: Data/Train/bumper_dent/bumper_dent_196.jpg  \n",
            "  inflating: Data/Train/bumper_dent/bumper_dent_198.jpg  \n",
            "  inflating: Data/Train/bumper_dent/bumper_dent_199.jpg  \n",
            "  inflating: Data/Train/bumper_dent/bumper_dent_2.jpg  \n",
            "  inflating: Data/Train/bumper_dent/bumper_dent_200.jpg  \n",
            "  inflating: Data/Train/bumper_dent/bumper_dent_206.jpg  \n",
            "  inflating: Data/Train/bumper_dent/bumper_dent_207.jpg  \n",
            "  inflating: Data/Train/bumper_dent/bumper_dent_212.jpg  \n",
            "  inflating: Data/Train/bumper_dent/bumper_dent_217.jpg  \n",
            "  inflating: Data/Train/bumper_dent/bumper_dent_218.jpg  \n",
            "  inflating: Data/Train/bumper_dent/bumper_dent_22.jpg  \n",
            "  inflating: Data/Train/bumper_dent/bumper_dent_220.jpg  \n",
            "  inflating: Data/Train/bumper_dent/bumper_dent_221.jpg  \n",
            "  inflating: Data/Train/bumper_dent/bumper_dent_226.jpg  \n",
            "  inflating: Data/Train/bumper_dent/bumper_dent_229.jpg  \n",
            "  inflating: Data/Train/bumper_dent/bumper_dent_235.jpg  \n",
            "  inflating: Data/Train/bumper_dent/bumper_dent_236.jpg  \n",
            "  inflating: Data/Train/bumper_dent/bumper_dent_24.jpg  \n",
            "  inflating: Data/Train/bumper_dent/bumper_dent_245.jpg  \n",
            "  inflating: Data/Train/bumper_dent/bumper_dent_25.jpg  \n",
            "  inflating: Data/Train/bumper_dent/bumper_dent_27.jpg  \n",
            "  inflating: Data/Train/bumper_dent/bumper_dent_28.jpg  \n",
            "  inflating: Data/Train/bumper_dent/bumper_dent_29.jpg  \n",
            "  inflating: Data/Train/bumper_dent/bumper_dent_32.jpg  \n",
            "  inflating: Data/Train/bumper_dent/bumper_dent_34.jpg  \n",
            "  inflating: Data/Train/bumper_dent/bumper_dent_37.jpg  \n",
            "  inflating: Data/Train/bumper_dent/bumper_dent_38.jpg  \n",
            "  inflating: Data/Train/bumper_dent/bumper_dent_4.jpg  \n",
            "  inflating: Data/Train/bumper_dent/bumper_dent_42.jpg  \n",
            "  inflating: Data/Train/bumper_dent/bumper_dent_47.jpg  \n",
            "  inflating: Data/Train/bumper_dent/bumper_dent_52.jpg  \n",
            "  inflating: Data/Train/bumper_dent/bumper_dent_6.jpg  \n",
            "  inflating: Data/Train/bumper_dent/bumper_dent_60.jpg  \n",
            "  inflating: Data/Train/bumper_dent/bumper_dent_62.jpg  \n",
            "  inflating: Data/Train/bumper_dent/bumper_dent_63.jpg  \n",
            "  inflating: Data/Train/bumper_dent/bumper_dent_65.jpg  \n",
            "  inflating: Data/Train/bumper_dent/bumper_dent_69.jpg  \n",
            "  inflating: Data/Train/bumper_dent/bumper_dent_7.jpg  \n",
            "  inflating: Data/Train/bumper_dent/bumper_dent_70.jpg  \n",
            "  inflating: Data/Train/bumper_dent/bumper_dent_71.jpg  \n",
            "  inflating: Data/Train/bumper_dent/bumper_dent_73.jpg  \n",
            "  inflating: Data/Train/bumper_dent/bumper_dent_74.jpg  \n",
            "  inflating: Data/Train/bumper_dent/bumper_dent_78.jpg  \n",
            "  inflating: Data/Train/bumper_dent/bumper_dent_82.jpg  \n",
            "  inflating: Data/Train/bumper_dent/bumper_dent_83.jpg  \n",
            "  inflating: Data/Train/bumper_dent/bumper_dent_85.jpg  \n",
            "  inflating: Data/Train/bumper_dent/bumper_dent_87.jpg  \n",
            "  inflating: Data/Train/bumper_dent/bumper_dent_88.jpg  \n",
            "  inflating: Data/Train/bumper_dent/bumper_dent_89.jpg  \n",
            "  inflating: Data/Train/bumper_dent/bumper_dent_90.jpg  \n",
            "  inflating: Data/Train/bumper_dent/bumper_dent_98.jpg  \n",
            "   creating: Data/Train/bumper_scratch/\n",
            "  inflating: Data/Train/bumper_scratch/1513117026-v-ziline-za-posledne-mesiace-narasta-pocet-skodovych-udalosti-od-ktorych-vinnici-utekaju.png  \n",
            "  inflating: Data/Train/bumper_scratch/16.JPG  \n",
            "  inflating: Data/Train/bumper_scratch/20120517_120322.jpg  \n",
            "  inflating: Data/Train/bumper_scratch/240_F_204909295_HruuYcvQiKg63alRE7HMALdOJpcih3Bo.jpg  \n",
            "  inflating: Data/Train/bumper_scratch/25089750.jpg  \n",
            "  inflating: Data/Train/bumper_scratch/500_F_208123847_sf8TvnduSAGDsyw3bY99njEzfAc5n6cW.jpg  \n",
            "  inflating: Data/Train/bumper_scratch/51758-5-3-20190321224313-05c93c6293a197984428568.jpg  \n",
            "  inflating: Data/Train/bumper_scratch/51758-5-3-20190321224313-05c93c62943516512844072.jpg  \n",
            "  inflating: Data/Train/bumper_scratch/90055196-close-up-on-front-bumper-car-scratch.jpg  \n",
            "  inflating: Data/Train/bumper_scratch/backside-of-new-silver-suv-car-get-scratched-damaged-by-accident-HEE2A3.jpg  \n",
            "  inflating: Data/Train/bumper_scratch/Before.jpg  \n",
            "  inflating: Data/Train/bumper_scratch/BMW-GT-Bumper-Scuff-Before-1024x768.jpg  \n",
            "  inflating: Data/Train/bumper_scratch/broken_back_light_35.jpg  \n",
            "  inflating: Data/Train/bumper_scratch/Bumper scuff.JPG  \n",
            "  inflating: Data/Train/bumper_scratch/Bumper-repair-manchester.jpg  \n",
            "  inflating: Data/Train/bumper_scratch/bumper_dent_192.jpg  \n",
            "  inflating: Data/Train/bumper_scratch/Car-touch-up-BMW-328i-Gold-Scrape-Damage-Rear-Bumper-1Before-Car-Touch-Up.jpg  \n",
            "  inflating: Data/Train/bumper_scratch/CTsjuCP.jpg  \n",
            "  inflating: Data/Train/bumper_scratch/Deep-Scratch-In-Bumper.jpg  \n",
            "  inflating: Data/Train/bumper_scratch/download (1).jpeg  \n",
            "  inflating: Data/Train/bumper_scratch/download (2).jpeg  \n",
            "  inflating: Data/Train/bumper_scratch/download (3).jpeg  \n",
            "  inflating: Data/Train/bumper_scratch/download (4).jpeg  \n",
            "  inflating: Data/Train/bumper_scratch/download (5).jpeg  \n",
            "  inflating: Data/Train/bumper_scratch/download (7).jpeg  \n",
            "  inflating: Data/Train/bumper_scratch/Fotolia_81953263_Subscription_Monthly_M.jpg  \n",
            "  inflating: Data/Train/bumper_scratch/frontscratch.jpg  \n",
            "  inflating: Data/Train/bumper_scratch/how-to-fix-minor-scratch-on-car-intended-for-buffing-scratches-from-car-as-well-as-buffing-scratches-from-car.jpg  \n",
            "  inflating: Data/Train/bumper_scratch/hqdefault.jpg  \n",
            "  inflating: Data/Train/bumper_scratch/MFS-Audi-010-1024x768.jpg  \n",
            "  inflating: Data/Train/bumper_scratch/picture-018.jpg  \n",
            "  inflating: Data/Train/bumper_scratch/Scratched bumper, 73854513.jpg  \n",
            "  inflating: Data/Train/bumper_scratch/scratched_car_1.jpg  \n",
            "  inflating: Data/Train/bumper_scratch/scratched_car_117.jpeg  \n",
            "  inflating: Data/Train/bumper_scratch/scratched_car_119.jpg  \n",
            "  inflating: Data/Train/bumper_scratch/scratched_car_120.jpg  \n",
            "  inflating: Data/Train/bumper_scratch/scratched_car_123.jpg  \n",
            "  inflating: Data/Train/bumper_scratch/scratched_car_124.jpg  \n",
            "  inflating: Data/Train/bumper_scratch/scratched_car_126.jpg  \n",
            "  inflating: Data/Train/bumper_scratch/scratched_car_129.jpg  \n",
            "  inflating: Data/Train/bumper_scratch/scratched_car_13.jpg  \n",
            "  inflating: Data/Train/bumper_scratch/scratched_car_133.jpg  \n",
            "  inflating: Data/Train/bumper_scratch/scratched_car_14.jpg  \n",
            "  inflating: Data/Train/bumper_scratch/scratched_car_16.jpg  \n",
            "  inflating: Data/Train/bumper_scratch/scratched_car_18.jpg  \n",
            "  inflating: Data/Train/bumper_scratch/scratched_car_19.jpg  \n",
            "  inflating: Data/Train/bumper_scratch/scratched_car_22.png  \n",
            "  inflating: Data/Train/bumper_scratch/scratched_car_28.jpg  \n",
            "  inflating: Data/Train/bumper_scratch/scratched_car_29.jpg  \n",
            "  inflating: Data/Train/bumper_scratch/scratched_car_3.jpg  \n",
            "  inflating: Data/Train/bumper_scratch/scratched_car_31.jpg  \n",
            "  inflating: Data/Train/bumper_scratch/scratched_car_36.jpg  \n",
            "  inflating: Data/Train/bumper_scratch/scratched_car_37.jpg  \n",
            "  inflating: Data/Train/bumper_scratch/scratched_car_40.jpg  \n",
            "  inflating: Data/Train/bumper_scratch/scratched_car_54.jpg  \n",
            "  inflating: Data/Train/bumper_scratch/scratched_car_56.jpg  \n",
            "  inflating: Data/Train/bumper_scratch/scratched_car_6.jpg  \n",
            "  inflating: Data/Train/bumper_scratch/scratched_car_60.jpg  \n",
            "  inflating: Data/Train/bumper_scratch/scratched_car_72.jpg  \n",
            "  inflating: Data/Train/bumper_scratch/scratched_car_8.jpg  \n",
            "  inflating: Data/Train/bumper_scratch/scratched_car_89.jpg  \n",
            "  inflating: Data/Train/bumper_scratch/scratched_car_9.jpg  \n",
            "   creating: Data/Train/Damaged/\n",
            "  inflating: Data/Train/Damaged/crashed_car_0.jpg  \n",
            "  inflating: Data/Train/Damaged/crashed_car_100.jpg  \n",
            "  inflating: Data/Train/Damaged/crashed_car_115.jpg  \n",
            "  inflating: Data/Train/Damaged/crashed_car_12.jpg  \n",
            "  inflating: Data/Train/Damaged/crashed_car_123.jpg  \n",
            "  inflating: Data/Train/Damaged/crashed_car_13.jpg  \n",
            "  inflating: Data/Train/Damaged/crashed_car_133.jpg  \n",
            "  inflating: Data/Train/Damaged/crashed_car_134.jpg  \n",
            "  inflating: Data/Train/Damaged/crashed_car_14.jpg  \n",
            "  inflating: Data/Train/Damaged/crashed_car_15.jpg  \n",
            "  inflating: Data/Train/Damaged/crashed_car_153.jpg  \n",
            "  inflating: Data/Train/Damaged/crashed_car_155.jpg  \n",
            "  inflating: Data/Train/Damaged/crashed_car_156.jpg  \n",
            "  inflating: Data/Train/Damaged/crashed_car_159.jpg  \n",
            "  inflating: Data/Train/Damaged/crashed_car_16.jpg  \n",
            "  inflating: Data/Train/Damaged/crashed_car_160.jpg  \n",
            "  inflating: Data/Train/Damaged/crashed_car_162.jpg  \n",
            "  inflating: Data/Train/Damaged/crashed_car_165.jpg  \n",
            "  inflating: Data/Train/Damaged/crashed_car_166.jpg  \n",
            "  inflating: Data/Train/Damaged/crashed_car_168.jpg  \n",
            "  inflating: Data/Train/Damaged/crashed_car_17.jpg  \n",
            "  inflating: Data/Train/Damaged/crashed_car_172.jpg  \n",
            "  inflating: Data/Train/Damaged/crashed_car_176.jpg  \n",
            "  inflating: Data/Train/Damaged/crashed_car_18.jpg  \n",
            "  inflating: Data/Train/Damaged/crashed_car_19.jpg  \n",
            "  inflating: Data/Train/Damaged/crashed_car_2.jpg  \n",
            "  inflating: Data/Train/Damaged/crashed_car_205.jpg  \n",
            "  inflating: Data/Train/Damaged/crashed_car_224.jpg  \n",
            "  inflating: Data/Train/Damaged/crashed_car_225.jpg  \n",
            "  inflating: Data/Train/Damaged/crashed_car_231.jpg  \n",
            "  inflating: Data/Train/Damaged/crashed_car_234.jpg  \n",
            "  inflating: Data/Train/Damaged/crashed_car_24.jpg  \n",
            "  inflating: Data/Train/Damaged/crashed_car_243.jpg  \n",
            "  inflating: Data/Train/Damaged/crashed_car_244.jpg  \n",
            "  inflating: Data/Train/Damaged/crashed_car_245.jpg  \n",
            "  inflating: Data/Train/Damaged/crashed_car_247.jpg  \n",
            "  inflating: Data/Train/Damaged/crashed_car_25.jpg  \n",
            "  inflating: Data/Train/Damaged/crashed_car_254.jpg  \n",
            "  inflating: Data/Train/Damaged/crashed_car_269.jpg  \n",
            "  inflating: Data/Train/Damaged/crashed_car_27.jpg  \n",
            "  inflating: Data/Train/Damaged/crashed_car_270.jpg  \n",
            "  inflating: Data/Train/Damaged/crashed_car_271.jpg  \n",
            "  inflating: Data/Train/Damaged/crashed_car_272.jpg  \n",
            "  inflating: Data/Train/Damaged/crashed_car_273.jpg  \n",
            "  inflating: Data/Train/Damaged/crashed_car_274.jpg  \n",
            "  inflating: Data/Train/Damaged/crashed_car_275.jpg  \n",
            "  inflating: Data/Train/Damaged/crashed_car_276.jpg  \n",
            "  inflating: Data/Train/Damaged/crashed_car_281.jpg  \n",
            "  inflating: Data/Train/Damaged/crashed_car_286.jpg  \n",
            "  inflating: Data/Train/Damaged/crashed_car_287.jpg  \n",
            "  inflating: Data/Train/Damaged/crashed_car_290.jpg  \n",
            "  inflating: Data/Train/Damaged/crashed_car_292.jpg  \n",
            "  inflating: Data/Train/Damaged/crashed_car_3.jpg  \n",
            "  inflating: Data/Train/Damaged/crashed_car_30.jpg  \n",
            "  inflating: Data/Train/Damaged/crashed_car_300.jpg  \n",
            "  inflating: Data/Train/Damaged/crashed_car_310.jpeg  \n",
            "  inflating: Data/Train/Damaged/crashed_car_32.jpg  \n",
            "  inflating: Data/Train/Damaged/crashed_car_328.png  \n",
            "  inflating: Data/Train/Damaged/crashed_car_33.jpg  \n",
            "  inflating: Data/Train/Damaged/crashed_car_335.jpg  \n",
            "  inflating: Data/Train/Damaged/crashed_car_338.jpg  \n",
            "  inflating: Data/Train/Damaged/crashed_car_34.jpg  \n",
            "  inflating: Data/Train/Damaged/crashed_car_340.jpg  \n",
            "  inflating: Data/Train/Damaged/crashed_car_35.jpg  \n",
            "  inflating: Data/Train/Damaged/crashed_car_354.jpg  \n",
            "  inflating: Data/Train/Damaged/crashed_car_37.jpg  \n",
            "  inflating: Data/Train/Damaged/crashed_car_372.jpg  \n",
            "  inflating: Data/Train/Damaged/crashed_car_374.jpg  \n",
            "  inflating: Data/Train/Damaged/crashed_car_391.jpg  \n",
            "  inflating: Data/Train/Damaged/crashed_car_398.jpg  \n",
            "  inflating: Data/Train/Damaged/crashed_car_401.jpg  \n",
            "  inflating: Data/Train/Damaged/crashed_car_407.jpg  \n",
            "  inflating: Data/Train/Damaged/crashed_car_409.jpg  \n",
            "  inflating: Data/Train/Damaged/crashed_car_41.png  \n",
            "  inflating: Data/Train/Damaged/crashed_car_414.jpg  \n",
            "  inflating: Data/Train/Damaged/crashed_car_42.jpg  \n",
            "  inflating: Data/Train/Damaged/crashed_car_424.jpg  \n",
            "  inflating: Data/Train/Damaged/crashed_car_433.jpg  \n",
            "  inflating: Data/Train/Damaged/crashed_car_435.jpg  \n",
            "  inflating: Data/Train/Damaged/crashed_car_445.jpg  \n",
            "  inflating: Data/Train/Damaged/crashed_car_463.jpg  \n",
            "  inflating: Data/Train/Damaged/crashed_car_466.jpg  \n",
            "  inflating: Data/Train/Damaged/crashed_car_497.jpg  \n",
            "  inflating: Data/Train/Damaged/crashed_car_5.jpg  \n",
            "  inflating: Data/Train/Damaged/crashed_car_61.jpg  \n",
            "  inflating: Data/Train/Damaged/crashed_car_66.png  \n",
            "  inflating: Data/Train/Damaged/crashed_car_69.jpg  \n",
            "  inflating: Data/Train/Damaged/crashed_car_75.jpg  \n",
            "  inflating: Data/Train/Damaged/crashed_car_8.jpg  \n",
            "  inflating: Data/Train/Damaged/crashed_car_87.jpg  \n",
            "  inflating: Data/Train/Damaged/crashed_car_95.jpg  \n",
            "  inflating: Data/Train/Damaged/crashed_car_96.jpg  \n",
            "  inflating: Data/Train/Damaged/crashed_car_99.jpeg  \n",
            "  inflating: Data/Train/Damaged/smashed_car_101.jpg  \n",
            "  inflating: Data/Train/Damaged/smashed_car_103.jpg  \n",
            "  inflating: Data/Train/Damaged/smashed_car_104.jpg  \n",
            "  inflating: Data/Train/Damaged/smashed_car_107.jpg  \n",
            "  inflating: Data/Train/Damaged/smashed_car_111.jpg  \n",
            "  inflating: Data/Train/Damaged/smashed_car_113.jpg  \n",
            "  inflating: Data/Train/Damaged/smashed_car_114.jpg  \n",
            "  inflating: Data/Train/Damaged/smashed_car_115.jpg  \n",
            "  inflating: Data/Train/Damaged/smashed_car_118.png  \n",
            "  inflating: Data/Train/Damaged/smashed_car_125.jpg  \n",
            "  inflating: Data/Train/Damaged/smashed_car_126.jpg  \n",
            "  inflating: Data/Train/Damaged/smashed_car_127.jpg  \n",
            "  inflating: Data/Train/Damaged/smashed_car_128.jpg  \n",
            "  inflating: Data/Train/Damaged/smashed_car_129.jpeg  \n",
            "  inflating: Data/Train/Damaged/smashed_car_13.jpg  \n",
            "  inflating: Data/Train/Damaged/smashed_car_133.jpg  \n",
            "  inflating: Data/Train/Damaged/smashed_car_134.jpg  \n",
            "  inflating: Data/Train/Damaged/smashed_car_15.jpg  \n",
            "  inflating: Data/Train/Damaged/smashed_car_17.jpg  \n",
            "  inflating: Data/Train/Damaged/smashed_car_18.jpg  \n",
            "  inflating: Data/Train/Damaged/smashed_car_19.jpg  \n",
            "  inflating: Data/Train/Damaged/smashed_car_2.jpg  \n",
            "  inflating: Data/Train/Damaged/smashed_car_20.jpg  \n",
            "  inflating: Data/Train/Damaged/smashed_car_21.jpg  \n",
            "  inflating: Data/Train/Damaged/smashed_car_22.jpg  \n",
            "  inflating: Data/Train/Damaged/smashed_car_23.jpg  \n",
            "  inflating: Data/Train/Damaged/smashed_car_24.jpg  \n",
            "  inflating: Data/Train/Damaged/smashed_car_27.jpg  \n",
            "  inflating: Data/Train/Damaged/smashed_car_29.jpg  \n",
            "  inflating: Data/Train/Damaged/smashed_car_31.jpg  \n",
            "  inflating: Data/Train/Damaged/smashed_car_35.jpg  \n",
            "  inflating: Data/Train/Damaged/smashed_car_37.jpg  \n",
            "  inflating: Data/Train/Damaged/smashed_car_39.jpg  \n",
            "  inflating: Data/Train/Damaged/smashed_car_4.jpg  \n",
            "  inflating: Data/Train/Damaged/smashed_car_41.jpg  \n",
            "  inflating: Data/Train/Damaged/smashed_car_42.jpg  \n",
            "  inflating: Data/Train/Damaged/smashed_car_43.jpg  \n",
            "  inflating: Data/Train/Damaged/smashed_car_5.jpg  \n",
            "  inflating: Data/Train/Damaged/smashed_car_51.jpg  \n",
            "  inflating: Data/Train/Damaged/smashed_car_53.jpg  \n",
            "  inflating: Data/Train/Damaged/smashed_car_54.jpeg  \n",
            "  inflating: Data/Train/Damaged/smashed_car_55.jpg  \n",
            "  inflating: Data/Train/Damaged/smashed_car_56.jpg  \n",
            "  inflating: Data/Train/Damaged/smashed_car_60.jpg  \n",
            "  inflating: Data/Train/Damaged/smashed_car_64.png  \n",
            "  inflating: Data/Train/Damaged/smashed_car_66.jpg  \n",
            "  inflating: Data/Train/Damaged/smashed_car_68.jpeg  \n",
            "  inflating: Data/Train/Damaged/smashed_car_69.jpg  \n",
            "  inflating: Data/Train/Damaged/smashed_car_7.jpg  \n",
            "  inflating: Data/Train/Damaged/smashed_car_77.png  \n",
            "  inflating: Data/Train/Damaged/smashed_car_8.jpg  \n",
            "  inflating: Data/Train/Damaged/smashed_car_81.jpg  \n",
            "  inflating: Data/Train/Damaged/smashed_car_82.jpg  \n",
            "  inflating: Data/Train/Damaged/smashed_car_84.jpg  \n",
            "  inflating: Data/Train/Damaged/smashed_car_85.jpg  \n",
            "  inflating: Data/Train/Damaged/smashed_car_89.jpg  \n",
            "  inflating: Data/Train/Damaged/smashed_car_94.jpg  \n",
            "   creating: Data/Train/door_dent/\n",
            "  inflating: Data/Train/door_dent/0002.JPEG  \n",
            "  inflating: Data/Train/door_dent/0003.JPEG  \n",
            "  inflating: Data/Train/door_dent/0011.jpeg  \n",
            "  inflating: Data/Train/door_dent/0013.jpeg  \n",
            "  inflating: Data/Train/door_dent/0017.JPEG  \n",
            "  inflating: Data/Train/door_dent/0027.jpeg  \n",
            "  inflating: Data/Train/door_dent/0033.JPEG  \n",
            "  inflating: Data/Train/door_dent/0034.JPEG  \n",
            "  inflating: Data/Train/door_dent/0042.JPEG  \n",
            "  inflating: Data/Train/door_dent/0047.JPEG  \n",
            "  inflating: Data/Train/door_dent/0051.JPEG  \n",
            "  inflating: Data/Train/door_dent/0055.JPEG  \n",
            "  inflating: Data/Train/door_dent/0058.JPEG  \n",
            "  inflating: Data/Train/door_dent/0059.JPEG  \n",
            "  inflating: Data/Train/door_dent/0060.JPEG  \n",
            "  inflating: Data/Train/door_dent/0061.jpeg  \n",
            "  inflating: Data/Train/door_dent/0063.JPEG  \n",
            "  inflating: Data/Train/door_dent/0065.JPEG  \n",
            "  inflating: Data/Train/door_dent/0066.JPEG  \n",
            "  inflating: Data/Train/door_dent/0133.JPEG  \n",
            "  inflating: Data/Train/door_dent/0159.JPEG  \n",
            "  inflating: Data/Train/door_dent/0202.JPEG  \n",
            "  inflating: Data/Train/door_dent/0231.JPEG  \n",
            "  inflating: Data/Train/door_dent/0267.jpeg  \n",
            "  inflating: Data/Train/door_dent/0274.JPEG  \n",
            "  inflating: Data/Train/door_dent/20180821181518-8456.jpg  \n",
            "  inflating: Data/Train/door_dent/4326238571.jpg  \n",
            "  inflating: Data/Train/door_dent/65c7e6322faab3d648e13ae247ccbae9936a1eab.jpg  \n",
            "  inflating: Data/Train/door_dent/bumper_dent_239.jpg  \n",
            "  inflating: Data/Train/door_dent/Car-Dent-2.jpg  \n",
            "  inflating: Data/Train/door_dent/car-door-dent-and-scratch-1080x500.jpg  \n",
            "  inflating: Data/Train/door_dent/chevrolet-lacetti-reono-2006-36902-9.jpg  \n",
            "  inflating: Data/Train/door_dent/Damaged-Car-Dent.jpg  \n",
            "  inflating: Data/Train/door_dent/damaged-car-door-cbfyxj.jpg  \n",
            "  inflating: Data/Train/door_dent/damaged_car_door_0.jpg  \n",
            "  inflating: Data/Train/door_dent/damaged_car_door_10.jpg  \n",
            "  inflating: Data/Train/door_dent/damaged_car_door_104.jpg  \n",
            "  inflating: Data/Train/door_dent/damaged_car_door_105.jpg  \n",
            "  inflating: Data/Train/door_dent/damaged_car_door_11.jpg  \n",
            "  inflating: Data/Train/door_dent/damaged_car_door_113.jpg  \n",
            "  inflating: Data/Train/door_dent/damaged_car_door_121.jpg  \n",
            "  inflating: Data/Train/door_dent/damaged_car_door_126.jpg  \n",
            "  inflating: Data/Train/door_dent/damaged_car_door_129.jpg  \n",
            "  inflating: Data/Train/door_dent/damaged_car_door_13.jpg  \n",
            "  inflating: Data/Train/door_dent/damaged_car_door_134.jpg  \n",
            "  inflating: Data/Train/door_dent/damaged_car_door_136.jpg  \n",
            "  inflating: Data/Train/door_dent/damaged_car_door_144.jpg  \n",
            "  inflating: Data/Train/door_dent/damaged_car_door_15.jpg  \n",
            "  inflating: Data/Train/door_dent/damaged_car_door_17.jpg  \n",
            "  inflating: Data/Train/door_dent/damaged_car_door_19.jpg  \n",
            "  inflating: Data/Train/door_dent/damaged_car_door_22.jpg  \n",
            "  inflating: Data/Train/door_dent/damaged_car_door_23.jpg  \n",
            "  inflating: Data/Train/door_dent/damaged_car_door_24.jpg  \n",
            "  inflating: Data/Train/door_dent/damaged_car_door_29.jpg  \n",
            "  inflating: Data/Train/door_dent/damaged_car_door_3.jpg  \n",
            "  inflating: Data/Train/door_dent/damaged_car_door_30.jpg  \n",
            "  inflating: Data/Train/door_dent/damaged_car_door_31.jpg  \n",
            "  inflating: Data/Train/door_dent/damaged_car_door_32.jpg  \n",
            "  inflating: Data/Train/door_dent/damaged_car_door_35.jpg  \n",
            "  inflating: Data/Train/door_dent/damaged_car_door_36.jpg  \n",
            "  inflating: Data/Train/door_dent/damaged_car_door_40.jpg  \n",
            "  inflating: Data/Train/door_dent/damaged_car_door_42.jpg  \n",
            "  inflating: Data/Train/door_dent/damaged_car_door_44.jpg  \n",
            "  inflating: Data/Train/door_dent/damaged_car_door_45.jpg  \n",
            "  inflating: Data/Train/door_dent/damaged_car_door_5.jpg  \n",
            "  inflating: Data/Train/door_dent/damaged_car_door_54.jpg  \n",
            "  inflating: Data/Train/door_dent/damaged_car_door_55.jpg  \n",
            "  inflating: Data/Train/door_dent/damaged_car_door_57.jpg  \n",
            "  inflating: Data/Train/door_dent/damaged_car_door_6.jpg  \n",
            "  inflating: Data/Train/door_dent/damaged_car_door_60.jpg  \n",
            "  inflating: Data/Train/door_dent/damaged_car_door_64.jpg  \n",
            "  inflating: Data/Train/door_dent/damaged_car_door_69.jpg  \n",
            "  inflating: Data/Train/door_dent/damaged_car_door_70.jpg  \n",
            "  inflating: Data/Train/door_dent/damaged_car_door_76.jpg  \n",
            "  inflating: Data/Train/door_dent/damaged_car_door_8.jpg  \n",
            "  inflating: Data/Train/door_dent/damaged_car_door_9.jpg  \n",
            "  inflating: Data/Train/door_dent/damaged_car_door_90.jpg  \n",
            "  inflating: Data/Train/door_dent/damaged_car_door_98.jpg  \n",
            "  inflating: Data/Train/door_dent/dent.jpg  \n",
            "  inflating: Data/Train/door_dent/door_dent_0.jpg  \n",
            "  inflating: Data/Train/door_dent/door_dent_1.jpg  \n",
            "  inflating: Data/Train/door_dent/door_dent_100.jpg  \n",
            "  inflating: Data/Train/door_dent/door_dent_105.jpg  \n",
            "  inflating: Data/Train/door_dent/door_dent_106.jpg  \n",
            "  inflating: Data/Train/door_dent/door_dent_111.jpg  \n",
            "  inflating: Data/Train/door_dent/door_dent_114.jpg  \n",
            "  inflating: Data/Train/door_dent/door_dent_121.jpg  \n",
            "  inflating: Data/Train/door_dent/door_dent_125.jpg  \n",
            "  inflating: Data/Train/door_dent/door_dent_13.jpg  \n",
            "  inflating: Data/Train/door_dent/door_dent_130.jpg  \n",
            "  inflating: Data/Train/door_dent/door_dent_132.jpg  \n",
            "  inflating: Data/Train/door_dent/door_dent_133.jpg  \n",
            "  inflating: Data/Train/door_dent/door_dent_14.jpg  \n",
            "  inflating: Data/Train/door_dent/door_dent_140.jpg  \n",
            "  inflating: Data/Train/door_dent/door_dent_143.jpg  \n",
            "  inflating: Data/Train/door_dent/door_dent_144.jpg  \n",
            "  inflating: Data/Train/door_dent/door_dent_145.jpg  \n",
            "  inflating: Data/Train/door_dent/door_dent_15.jpg  \n",
            "  inflating: Data/Train/door_dent/door_dent_158.jpg  \n",
            "  inflating: Data/Train/door_dent/door_dent_16.jpg  \n",
            "  inflating: Data/Train/door_dent/door_dent_163.jpg  \n",
            "  inflating: Data/Train/door_dent/door_dent_17.jpg  \n",
            "  inflating: Data/Train/door_dent/door_dent_174.jpg  \n",
            "  inflating: Data/Train/door_dent/door_dent_175.jpeg  \n",
            "  inflating: Data/Train/door_dent/door_dent_178.jpg  \n",
            "  inflating: Data/Train/door_dent/door_dent_19.jpg  \n",
            "  inflating: Data/Train/door_dent/door_dent_2.jpg  \n",
            "  inflating: Data/Train/door_dent/door_dent_21.jpg  \n",
            "  inflating: Data/Train/door_dent/door_dent_22.jpg  \n",
            "  inflating: Data/Train/door_dent/door_dent_25.jpg  \n",
            "  inflating: Data/Train/door_dent/door_dent_26.jpg  \n",
            "  inflating: Data/Train/door_dent/door_dent_27.jpg  \n",
            "  inflating: Data/Train/door_dent/door_dent_30.jpeg  \n",
            "  inflating: Data/Train/door_dent/door_dent_31.jpg  \n",
            "  inflating: Data/Train/door_dent/door_dent_32.jpg  \n",
            "  inflating: Data/Train/door_dent/door_dent_33.jpg  \n",
            "  inflating: Data/Train/door_dent/door_dent_35.jpg  \n",
            "  inflating: Data/Train/door_dent/door_dent_37.jpg  \n",
            "  inflating: Data/Train/door_dent/door_dent_38.jpg  \n",
            "  inflating: Data/Train/door_dent/door_dent_39.jpg  \n",
            "  inflating: Data/Train/door_dent/door_dent_4.jpg  \n",
            "  inflating: Data/Train/door_dent/door_dent_40.jpg  \n",
            "  inflating: Data/Train/door_dent/door_dent_47.jpg  \n",
            "  inflating: Data/Train/door_dent/door_dent_49.jpg  \n",
            "  inflating: Data/Train/door_dent/door_dent_5.jpg  \n",
            "  inflating: Data/Train/door_dent/door_dent_50.jpg  \n",
            "  inflating: Data/Train/door_dent/door_dent_53.jpg  \n",
            "  inflating: Data/Train/door_dent/door_dent_55.jpg  \n",
            "  inflating: Data/Train/door_dent/door_dent_57.jpg  \n",
            "  inflating: Data/Train/door_dent/door_dent_59.jpg  \n",
            "  inflating: Data/Train/door_dent/door_dent_6.jpg  \n",
            "  inflating: Data/Train/door_dent/door_dent_62.jpg  \n",
            "  inflating: Data/Train/door_dent/door_dent_66.jpg  \n",
            "  inflating: Data/Train/door_dent/door_dent_7.jpg  \n",
            "  inflating: Data/Train/door_dent/door_dent_71.jpg  \n",
            "  inflating: Data/Train/door_dent/door_dent_75.jpg  \n",
            "  inflating: Data/Train/door_dent/door_dent_76.jpg  \n",
            "  inflating: Data/Train/door_dent/door_dent_77.jpg  \n",
            "  inflating: Data/Train/door_dent/door_dent_78.jpg  \n",
            "  inflating: Data/Train/door_dent/door_dent_79.jpg  \n",
            "  inflating: Data/Train/door_dent/door_dent_88.jpg  \n",
            "  inflating: Data/Train/door_dent/door_dent_9.jpg  \n",
            "  inflating: Data/Train/door_dent/door_dent_90.jpg  \n",
            "  inflating: Data/Train/door_dent/door_dent_91.jpg  \n",
            "  inflating: Data/Train/door_dent/door_dent_92.jpg  \n",
            "  inflating: Data/Train/door_dent/door_dent_93.jpg  \n",
            "  inflating: Data/Train/door_dent/door_dent_94.jpg  \n",
            "  inflating: Data/Train/door_dent/door_dent_96.jpg  \n",
            "  inflating: Data/Train/door_dent/door_dent_97.jpg  \n",
            "  inflating: Data/Train/door_dent/door_dent_98.jpg  \n",
            "   creating: Data/Train/door_scratch/\n",
            "  inflating: Data/Train/door_scratch/0011.JPEG  \n",
            "  inflating: Data/Train/door_scratch/0035.JPEG  \n",
            "  inflating: Data/Train/door_scratch/0048.JPEG  \n",
            "  inflating: Data/Train/door_scratch/0049.JPEG  \n",
            "  inflating: Data/Train/door_scratch/012F035C00000578-0-image-a-4_1458208502652.jpg  \n",
            "  inflating: Data/Train/door_scratch/012F035C00000578-4744888-image-a-1_1501456362082.jpg  \n",
            "  inflating: Data/Train/door_scratch/0175.JPEG  \n",
            "  inflating: Data/Train/door_scratch/0267.jpeg  \n",
            "  inflating: Data/Train/door_scratch/0270.jpeg  \n",
            "  inflating: Data/Train/door_scratch/13082010187.jpg  \n",
            "  inflating: Data/Train/door_scratch/1513786862528147717car-got-keyed.med.png  \n",
            "  inflating: Data/Train/door_scratch/174388.jpg  \n",
            "  inflating: Data/Train/door_scratch/180511-car-vandalism-manhattan-feature-image.jpg  \n",
            "  inflating: Data/Train/door_scratch/20150721_083311.jpeg  \n",
            "  inflating: Data/Train/door_scratch/29644_1759_1942.jpg  \n",
            "  inflating: Data/Train/door_scratch/2DSC02208.JPG  \n",
            "  inflating: Data/Train/door_scratch/4495042004.jpg  \n",
            "  inflating: Data/Train/door_scratch/4I2NUAQXUJBZTAVY3TZT4GCM6Q.jpg  \n",
            "  inflating: Data/Train/door_scratch/500_F_235885243_hwTrmwAJiw63j4pBlVd08Mk1wNU281Ng.jpg  \n",
            "  inflating: Data/Train/door_scratch/5ba1d962d9862.image.jpg  \n",
            "  inflating: Data/Train/door_scratch/62JvpWJ.jpg  \n",
            "  inflating: Data/Train/door_scratch/AR-180329540.jpg  \n",
            "  inflating: Data/Train/door_scratch/asp0icivpqoixxq9htew.jpg  \n",
            "  inflating: Data/Train/door_scratch/b4aft_scratch.jpg  \n",
            "  inflating: Data/Train/door_scratch/before-car-paint-scratch-removal.jpg  \n",
            "  inflating: Data/Train/door_scratch/beweffe-590x372.png  \n",
            "  inflating: Data/Train/door_scratch/brookline-car-keyed.jpg  \n",
            "  inflating: Data/Train/door_scratch/c2d35396-f1a4-477f-b7f2-79f49729b7e6.jpg  \n",
            "  inflating: Data/Train/door_scratch/car-automobile-passenger-car-varnish-damage-damage-harm-scratch-varnish-paintwork-paint-vandalen-vandalism-X897GN.jpg  \n",
            "  inflating: Data/Train/door_scratch/car-door-scratches-accident-44757332.jpg  \n",
            "  inflating: Data/Train/door_scratch/Car-Scratch-Repair-2-1024x768.jpg  \n",
            "  inflating: Data/Train/door_scratch/car-scratch-repair-cheshire.png  \n",
            "  inflating: Data/Train/door_scratch/carscratch.jpg  \n",
            "  inflating: Data/Train/door_scratch/CarScratchRepair_500pxW.jpg  \n",
            "  inflating: Data/Train/door_scratch/carskey2-720x643.jpg  \n",
            "  inflating: Data/Train/door_scratch/car_1106164_ver1.0_1280_720.jpg  \n",
            "  inflating: Data/Train/door_scratch/charles-hotel.jpg  \n",
            "  inflating: Data/Train/door_scratch/chto-delat-esli-pocarapali-mashinu-na-parkovke-i-skrylis-2.jpg  \n",
            "  inflating: Data/Train/door_scratch/CxarizW.jpg  \n",
            "  inflating: Data/Train/door_scratch/C_VFPLWUIAAIRiG.jpg  \n",
            "  inflating: Data/Train/door_scratch/Deep Key Scratches 001.jpg  \n",
            "  inflating: Data/Train/door_scratch/Deep Key Scratches 002.jpg  \n",
            "  inflating: Data/Train/door_scratch/Door Scratch Ware.jpg  \n",
            "  inflating: Data/Train/door_scratch/doorfenderscratches03.jpg  \n",
            "  inflating: Data/Train/door_scratch/door_dent_129.jpg  \n",
            "  inflating: Data/Train/door_scratch/door_dent_131.jpg  \n",
            "  inflating: Data/Train/door_scratch/door_dent_24.jpg  \n",
            "  inflating: Data/Train/door_scratch/door_dent_440.jpg  \n",
            "  inflating: Data/Train/door_scratch/download.jpeg  \n",
            "  inflating: Data/Train/door_scratch/dsc00688.jpg  \n",
            "  inflating: Data/Train/door_scratch/dsc00689.jpg  \n",
            "  inflating: Data/Train/door_scratch/dsc00690.jpg  \n",
            "  inflating: Data/Train/door_scratch/DSC_0003 [] [].jpg  \n",
            "  inflating: Data/Train/door_scratch/DSC_1583-800x486.jpg  \n",
            "  inflating: Data/Train/door_scratch/e7a334230c1845eeb567b0cf494f8507.jpeg  \n",
            "  inflating: Data/Train/door_scratch/f74c849468dffbb29193d767213cbcbf.jpg  \n",
            "  inflating: Data/Train/door_scratch/FAIRVIEWFORD-5-1.jpg  \n",
            "  inflating: Data/Train/door_scratch/fix-key-scratches-on-car-how-to-fix-a-keyed-car-the-best-ways-to-decimate-that-annoying-scratch-how-to-fix-key-scratches-on-my-car-fix-key-scratches-car-door.jpg  \n",
            "  inflating: Data/Train/door_scratch/FR Door.JPG  \n",
            "  inflating: Data/Train/door_scratch/gallery_98021_38710_115781.jpeg  \n",
            "  inflating: Data/Train/door_scratch/h44-10816186.jpg  \n",
            "  inflating: Data/Train/door_scratch/ijms5l1uoqcswyzqvjje.jpg  \n",
            "  inflating: Data/Train/door_scratch/imag0290.jpg  \n",
            "  inflating: Data/Train/door_scratch/image.jpg  \n",
            "  inflating: Data/Train/door_scratch/images (1).jpeg  \n",
            "  inflating: Data/Train/door_scratch/images.jpeg  \n",
            "  inflating: Data/Train/door_scratch/IMAGE_025.jpg  \n",
            "  inflating: Data/Train/door_scratch/IMG_20141129_103747_765.jpg  \n",
            "  inflating: Data/Train/door_scratch/img_2947.jpg  \n",
            "  inflating: Data/Train/door_scratch/img_5701.jpg  \n",
            "  inflating: Data/Train/door_scratch/Infiniti-G35-door-key-scratch-Before.jpg  \n",
            "  inflating: Data/Train/door_scratch/jAuo7h.jpg  \n",
            "  inflating: Data/Train/door_scratch/Key scratch.jpg  \n",
            "  inflating: Data/Train/door_scratch/key-scratch-01.jpg  \n",
            "  inflating: Data/Train/door_scratch/key-scratch-before-repair.jpg  \n",
            "  inflating: Data/Train/door_scratch/keyd.jpg  \n",
            "  inflating: Data/Train/door_scratch/keydamage.jpg  \n",
            "  inflating: Data/Train/door_scratch/Keyed-Car (1).jpg  \n",
            "  inflating: Data/Train/door_scratch/keyed-car-90-day-fiance.jpg  \n",
            "  inflating: Data/Train/door_scratch/keyed-car.jpg  \n",
            "  inflating: Data/Train/door_scratch/keyed_BMW.jpg  \n",
            "  inflating: Data/Train/door_scratch/Keyed_Car_2.jpg  \n",
            "  inflating: Data/Train/door_scratch/keyle1-1s.jpg  \n",
            "  inflating: Data/Train/door_scratch/keyscratch.jpg  \n",
            "  inflating: Data/Train/door_scratch/Key_Scratch1.jpg  \n",
            "  inflating: Data/Train/door_scratch/KnDffXt.jpg  \n",
            "  inflating: Data/Train/door_scratch/landrover-1.jpg  \n",
            "  inflating: Data/Train/door_scratch/Lexus-RX450-door-key-scratch-Before.jpg  \n",
            "  inflating: Data/Train/door_scratch/MTeUfkM.jpg  \n",
            "  inflating: Data/Train/door_scratch/okjtuoun63cr5pko.jpg  \n",
            "  inflating: Data/Train/door_scratch/paint_car_scratches_fix.jpg  \n",
            "  inflating: Data/Train/door_scratch/Photo Mar 27, 8 41 49 AM.jpg  \n",
            "  inflating: Data/Train/door_scratch/Photo-0006_op_640x480.jpg  \n",
            "  inflating: Data/Train/door_scratch/pss_keyed_car.jpg  \n",
            "  inflating: Data/Train/door_scratch/s1200.jpeg  \n",
            "  inflating: Data/Train/door_scratch/Scratch - Before.jpg  \n",
            "  inflating: Data/Train/door_scratch/Scratch-body-1024x768.jpg  \n",
            "  inflating: Data/Train/door_scratch/scratched_car_0.jpg  \n",
            "  inflating: Data/Train/door_scratch/scratched_car_12.jpg  \n",
            "  inflating: Data/Train/door_scratch/scratched_car_17.jpg  \n",
            "  inflating: Data/Train/door_scratch/scratched_car_2.jpg  \n",
            "  inflating: Data/Train/door_scratch/scratched_car_20.jpg  \n",
            "  inflating: Data/Train/door_scratch/scratched_car_21.jpg  \n",
            "  inflating: Data/Train/door_scratch/scratched_car_24.jpg  \n",
            "  inflating: Data/Train/door_scratch/scratched_car_32.jpg  \n",
            "  inflating: Data/Train/door_scratch/scratched_car_33.jpg  \n",
            "  inflating: Data/Train/door_scratch/scratched_car_39.jpg  \n",
            "  inflating: Data/Train/door_scratch/scratched_car_42.jpg  \n",
            "  inflating: Data/Train/door_scratch/scratched_car_47.jpg  \n",
            "  inflating: Data/Train/door_scratch/scratched_car_48.jpg  \n",
            "  inflating: Data/Train/door_scratch/scratched_car_55.jpg  \n",
            "  inflating: Data/Train/door_scratch/scratched_car_58.jpg  \n",
            "  inflating: Data/Train/door_scratch/scratched_car_62.jpg  \n",
            "  inflating: Data/Train/door_scratch/scratched_car_65.jpg  \n",
            "  inflating: Data/Train/door_scratch/scratched_car_67.jpg  \n",
            "  inflating: Data/Train/door_scratch/scratch_repair_image-2.jpg  \n",
            "   creating: Data/Train/glass_shatter/\n",
            "  inflating: Data/Train/glass_shatter/0004.JPEG  \n",
            "  inflating: Data/Train/glass_shatter/0005.JPEG  \n",
            "  inflating: Data/Train/glass_shatter/0010.JPEG  \n",
            "  inflating: Data/Train/glass_shatter/0013.JPEG  \n",
            "  inflating: Data/Train/glass_shatter/0016.JPEG  \n",
            "  inflating: Data/Train/glass_shatter/0017.JPEG  \n",
            "  inflating: Data/Train/glass_shatter/0023.JPEG  \n",
            "  inflating: Data/Train/glass_shatter/0029.JPEG  \n",
            "  inflating: Data/Train/glass_shatter/0045.JPEG  \n",
            "  inflating: Data/Train/glass_shatter/0052.JPEG  \n",
            "  inflating: Data/Train/glass_shatter/0132.JPEG  \n",
            "  inflating: Data/Train/glass_shatter/0146.JPEG  \n",
            "  inflating: Data/Train/glass_shatter/0199.JPEG  \n",
            "  inflating: Data/Train/glass_shatter/0248.JPEG  \n",
            "  inflating: Data/Train/glass_shatter/car_glass_broken_0.jpg  \n",
            "  inflating: Data/Train/glass_shatter/car_glass_broken_1.jpg  \n",
            "  inflating: Data/Train/glass_shatter/car_glass_broken_10.jpg  \n",
            "  inflating: Data/Train/glass_shatter/car_glass_broken_100.jpg  \n",
            "  inflating: Data/Train/glass_shatter/car_glass_broken_101.jpg  \n",
            "  inflating: Data/Train/glass_shatter/car_glass_broken_103.png  \n",
            "  inflating: Data/Train/glass_shatter/car_glass_broken_108.jpg  \n",
            "  inflating: Data/Train/glass_shatter/car_glass_broken_11.jpg  \n",
            "  inflating: Data/Train/glass_shatter/car_glass_broken_110.jpg  \n",
            "  inflating: Data/Train/glass_shatter/car_glass_broken_111.jpg  \n",
            "  inflating: Data/Train/glass_shatter/car_glass_broken_113.jpg  \n",
            "  inflating: Data/Train/glass_shatter/car_glass_broken_114.jpg  \n",
            "  inflating: Data/Train/glass_shatter/car_glass_broken_119.jpg  \n",
            "  inflating: Data/Train/glass_shatter/car_glass_broken_12.jpg  \n",
            "  inflating: Data/Train/glass_shatter/car_glass_broken_120.jpg  \n",
            "  inflating: Data/Train/glass_shatter/car_glass_broken_121.jpg  \n",
            "  inflating: Data/Train/glass_shatter/car_glass_broken_122.jpg  \n",
            "  inflating: Data/Train/glass_shatter/car_glass_broken_124.jpg  \n",
            "  inflating: Data/Train/glass_shatter/car_glass_broken_127.jpg  \n",
            "  inflating: Data/Train/glass_shatter/car_glass_broken_129.jpg  \n",
            "  inflating: Data/Train/glass_shatter/car_glass_broken_13.jpg  \n",
            "  inflating: Data/Train/glass_shatter/car_glass_broken_130.jpg  \n",
            "  inflating: Data/Train/glass_shatter/car_glass_broken_132.jpg  \n",
            "  inflating: Data/Train/glass_shatter/car_glass_broken_135.jpg  \n",
            "  inflating: Data/Train/glass_shatter/car_glass_broken_14.jpg  \n",
            "  inflating: Data/Train/glass_shatter/car_glass_broken_147.jpg  \n",
            "  inflating: Data/Train/glass_shatter/car_glass_broken_15.png  \n",
            "  inflating: Data/Train/glass_shatter/car_glass_broken_154.jpg  \n",
            "  inflating: Data/Train/glass_shatter/car_glass_broken_155.jpg  \n",
            "  inflating: Data/Train/glass_shatter/car_glass_broken_16.jpg  \n",
            "  inflating: Data/Train/glass_shatter/car_glass_broken_17.jpg  \n",
            "  inflating: Data/Train/glass_shatter/car_glass_broken_173.jpg  \n",
            "  inflating: Data/Train/glass_shatter/car_glass_broken_175.jpg  \n",
            "  inflating: Data/Train/glass_shatter/car_glass_broken_176.jpg  \n",
            "  inflating: Data/Train/glass_shatter/car_glass_broken_18.jpg  \n",
            "  inflating: Data/Train/glass_shatter/car_glass_broken_182.jpeg  \n",
            "  inflating: Data/Train/glass_shatter/car_glass_broken_183.jpg  \n",
            "  inflating: Data/Train/glass_shatter/car_glass_broken_19.jpg  \n",
            "  inflating: Data/Train/glass_shatter/car_glass_broken_196.jpg  \n",
            "  inflating: Data/Train/glass_shatter/car_glass_broken_2.jpg  \n",
            "  inflating: Data/Train/glass_shatter/car_glass_broken_20.jpg  \n",
            "  inflating: Data/Train/glass_shatter/car_glass_broken_206.jpg  \n",
            "  inflating: Data/Train/glass_shatter/car_glass_broken_21.jpg  \n",
            "  inflating: Data/Train/glass_shatter/car_glass_broken_211.jpg  \n",
            "  inflating: Data/Train/glass_shatter/car_glass_broken_215.jpg  \n",
            "  inflating: Data/Train/glass_shatter/car_glass_broken_217.jpg  \n",
            "  inflating: Data/Train/glass_shatter/car_glass_broken_218.jpg  \n",
            "  inflating: Data/Train/glass_shatter/car_glass_broken_219.jpg  \n",
            "  inflating: Data/Train/glass_shatter/car_glass_broken_22.jpg  \n",
            "  inflating: Data/Train/glass_shatter/car_glass_broken_220.jpg  \n",
            "  inflating: Data/Train/glass_shatter/car_glass_broken_230.jpg  \n",
            "  inflating: Data/Train/glass_shatter/car_glass_broken_231.jpg  \n",
            "  inflating: Data/Train/glass_shatter/car_glass_broken_237.jpg  \n",
            "  inflating: Data/Train/glass_shatter/car_glass_broken_24.jpg  \n",
            "  inflating: Data/Train/glass_shatter/car_glass_broken_245.jpg  \n",
            "  inflating: Data/Train/glass_shatter/car_glass_broken_247.jpg  \n",
            "  inflating: Data/Train/glass_shatter/car_glass_broken_25.png  \n",
            "  inflating: Data/Train/glass_shatter/car_glass_broken_268.jpg  \n",
            "  inflating: Data/Train/glass_shatter/car_glass_broken_27.jpg  \n",
            "  inflating: Data/Train/glass_shatter/car_glass_broken_31.jpg  \n",
            "  inflating: Data/Train/glass_shatter/car_glass_broken_34.jpg  \n",
            "  inflating: Data/Train/glass_shatter/car_glass_broken_35.jpg  \n",
            "  inflating: Data/Train/glass_shatter/car_glass_broken_36.jpg  \n",
            "  inflating: Data/Train/glass_shatter/car_glass_broken_37.jpg  \n",
            "  inflating: Data/Train/glass_shatter/car_glass_broken_38.jpeg  \n",
            "  inflating: Data/Train/glass_shatter/car_glass_broken_4.jpg  \n",
            "  inflating: Data/Train/glass_shatter/car_glass_broken_42.jpg  \n",
            "  inflating: Data/Train/glass_shatter/car_glass_broken_43.jpg  \n",
            "  inflating: Data/Train/glass_shatter/car_glass_broken_5.jpg  \n",
            "  inflating: Data/Train/glass_shatter/car_glass_broken_50.jpg  \n",
            "  inflating: Data/Train/glass_shatter/car_glass_broken_51.jpg  \n",
            "  inflating: Data/Train/glass_shatter/car_glass_broken_52.jpg  \n",
            "  inflating: Data/Train/glass_shatter/car_glass_broken_55.png  \n",
            "  inflating: Data/Train/glass_shatter/car_glass_broken_59.jpg  \n",
            "  inflating: Data/Train/glass_shatter/car_glass_broken_6.jpg  \n",
            "  inflating: Data/Train/glass_shatter/car_glass_broken_60.jpg  \n",
            "  inflating: Data/Train/glass_shatter/car_glass_broken_64.jpeg  \n",
            "  inflating: Data/Train/glass_shatter/car_glass_broken_66.jpg  \n",
            "  inflating: Data/Train/glass_shatter/car_glass_broken_67.jpg  \n",
            "  inflating: Data/Train/glass_shatter/car_glass_broken_7.jpg  \n",
            "  inflating: Data/Train/glass_shatter/car_glass_broken_74.jpg  \n",
            "  inflating: Data/Train/glass_shatter/car_glass_broken_76.jpg  \n",
            "  inflating: Data/Train/glass_shatter/car_glass_broken_78.jpg  \n",
            "  inflating: Data/Train/glass_shatter/car_glass_broken_79.jpg  \n",
            "  inflating: Data/Train/glass_shatter/car_glass_broken_8.jpg  \n",
            "  inflating: Data/Train/glass_shatter/car_glass_broken_84.jpg  \n",
            "  inflating: Data/Train/glass_shatter/car_glass_broken_88.jpg  \n",
            "  inflating: Data/Train/glass_shatter/car_glass_broken_89.jpg  \n",
            "  inflating: Data/Train/glass_shatter/car_glass_broken_9.jpg  \n",
            "  inflating: Data/Train/glass_shatter/car_glass_broken_92.jpg  \n",
            "  inflating: Data/Train/glass_shatter/car_glass_broken_93.jpg  \n",
            "  inflating: Data/Train/glass_shatter/car_glass_broken_94.jpg  \n",
            "  inflating: Data/Train/glass_shatter/car_glass_broken_95.jpg  \n",
            "   creating: Data/Train/head_lamp/\n",
            "  inflating: Data/Train/head_lamp/0082.JPEG  \n",
            "  inflating: Data/Train/head_lamp/0228.JPEG  \n",
            "  inflating: Data/Train/head_lamp/1100x499.jpg  \n",
            "  inflating: Data/Train/head_lamp/20160809_090117.jpg  \n",
            "  inflating: Data/Train/head_lamp/20160922_094205_HDR_resized.jpg  \n",
            "  inflating: Data/Train/head_lamp/263328_10150257744397740_594742739_7696180_2099793_n.jpg  \n",
            "  inflating: Data/Train/head_lamp/351aakz.jpg  \n",
            "  inflating: Data/Train/head_lamp/52971-large_default.jpg  \n",
            "  inflating: Data/Train/head_lamp/8433-close-up-of-a-car-headlight-pv.jpg  \n",
            "  inflating: Data/Train/head_lamp/8oDX2eg.jpg  \n",
            "  inflating: Data/Train/head_lamp/b219f98c91ea4b61add22fba3a3021c1.jpeg  \n",
            "  inflating: Data/Train/head_lamp/broken-car-headlight-FWXJH6.jpg  \n",
            "  inflating: Data/Train/head_lamp/broken-car-headlight-grey-32331804 (2).jpg  \n",
            "  inflating: Data/Train/head_lamp/broken-front-headlight-on-the-red-car-e613h1.jpg  \n",
            "  inflating: Data/Train/head_lamp/broken-headlight-attack1.jpg  \n",
            "  inflating: Data/Train/head_lamp/broken-headlight-tape-broken-lamp-headlight-and-bumper-car-scratched-with-deep-damage-to-paint-stock-image-home-ideas-for-living-room-home-ideas-website.jpg  \n",
            "  inflating: Data/Train/head_lamp/broken-headlight-tape-do-it-yourself-repair-job-with-pipe-tape-to-a-rear-tail-light-and-bumper-after-home-theater-ideas-diy-home-ideas-application.jpg  \n",
            "  inflating: Data/Train/head_lamp/broken-lamp-headlight-and-bumper-car-scratched-with-deep-damage-to-J9MD8A.jpg  \n",
            "  inflating: Data/Train/head_lamp/broken_head_lamp_0.jpg  \n",
            "  inflating: Data/Train/head_lamp/broken_head_lamp_103.jpg  \n",
            "  inflating: Data/Train/head_lamp/broken_head_lamp_112.jpg  \n",
            "  inflating: Data/Train/head_lamp/broken_head_lamp_113.jpg  \n",
            "  inflating: Data/Train/head_lamp/broken_head_lamp_114.jpg  \n",
            "  inflating: Data/Train/head_lamp/broken_head_lamp_120.jpg  \n",
            "  inflating: Data/Train/head_lamp/broken_head_lamp_122.jpg  \n",
            "  inflating: Data/Train/head_lamp/broken_head_lamp_123.jpg  \n",
            "  inflating: Data/Train/head_lamp/broken_head_lamp_127.jpg  \n",
            "  inflating: Data/Train/head_lamp/broken_head_lamp_128.jpg  \n",
            "  inflating: Data/Train/head_lamp/broken_head_lamp_129.jpg  \n",
            "  inflating: Data/Train/head_lamp/broken_head_lamp_132.jpg  \n",
            "  inflating: Data/Train/head_lamp/broken_head_lamp_135.jpg  \n",
            "  inflating: Data/Train/head_lamp/broken_head_lamp_138.jpg  \n",
            "  inflating: Data/Train/head_lamp/broken_head_lamp_145.jpg  \n",
            "  inflating: Data/Train/head_lamp/broken_head_lamp_15.jpg  \n",
            "  inflating: Data/Train/head_lamp/broken_head_lamp_151.jpg  \n",
            "  inflating: Data/Train/head_lamp/broken_head_lamp_155.jpg  \n",
            "  inflating: Data/Train/head_lamp/broken_head_lamp_156.jpg  \n",
            "  inflating: Data/Train/head_lamp/broken_head_lamp_167.jpg  \n",
            "  inflating: Data/Train/head_lamp/broken_head_lamp_170.jpg  \n",
            "  inflating: Data/Train/head_lamp/broken_head_lamp_177.jpg  \n",
            "  inflating: Data/Train/head_lamp/broken_head_lamp_18.jpg  \n",
            "  inflating: Data/Train/head_lamp/broken_head_lamp_180.jpg  \n",
            "  inflating: Data/Train/head_lamp/broken_head_lamp_182.jpg  \n",
            "  inflating: Data/Train/head_lamp/broken_head_lamp_184.jpg  \n",
            "  inflating: Data/Train/head_lamp/broken_head_lamp_19.jpg  \n",
            "  inflating: Data/Train/head_lamp/broken_head_lamp_193.jpg  \n",
            "  inflating: Data/Train/head_lamp/broken_head_lamp_195.jpg  \n",
            "  inflating: Data/Train/head_lamp/broken_head_lamp_2.jpg  \n",
            "  inflating: Data/Train/head_lamp/broken_head_lamp_206.jpg  \n",
            "  inflating: Data/Train/head_lamp/broken_head_lamp_21.jpg  \n",
            "  inflating: Data/Train/head_lamp/broken_head_lamp_212.jpg  \n",
            "  inflating: Data/Train/head_lamp/broken_head_lamp_213.jpg  \n",
            "  inflating: Data/Train/head_lamp/broken_head_lamp_22.jpg  \n",
            "  inflating: Data/Train/head_lamp/broken_head_lamp_221.jpg  \n",
            "  inflating: Data/Train/head_lamp/broken_head_lamp_222.jpg  \n",
            "  inflating: Data/Train/head_lamp/broken_head_lamp_225.jpg  \n",
            "  inflating: Data/Train/head_lamp/broken_head_lamp_231.jpg  \n",
            "  inflating: Data/Train/head_lamp/broken_head_lamp_234.jpg  \n",
            "  inflating: Data/Train/head_lamp/broken_head_lamp_24.jpg  \n",
            "  inflating: Data/Train/head_lamp/broken_head_lamp_26.jpg  \n",
            "  inflating: Data/Train/head_lamp/broken_head_lamp_261.jpg  \n",
            "  inflating: Data/Train/head_lamp/broken_head_lamp_264.jpg  \n",
            "  inflating: Data/Train/head_lamp/broken_head_lamp_28.jpg  \n",
            "  inflating: Data/Train/head_lamp/broken_head_lamp_286.jpg  \n",
            "  inflating: Data/Train/head_lamp/broken_head_lamp_3.jpg  \n",
            "  inflating: Data/Train/head_lamp/broken_head_lamp_301.jpg  \n",
            "  inflating: Data/Train/head_lamp/broken_head_lamp_318.jpg  \n",
            "  inflating: Data/Train/head_lamp/broken_head_lamp_322.jpg  \n",
            "  inflating: Data/Train/head_lamp/broken_head_lamp_332.jpg  \n",
            "  inflating: Data/Train/head_lamp/broken_head_lamp_337.jpg  \n",
            "  inflating: Data/Train/head_lamp/broken_head_lamp_344.jpeg  \n",
            "  inflating: Data/Train/head_lamp/broken_head_lamp_369.jpg  \n",
            "  inflating: Data/Train/head_lamp/broken_head_lamp_37.jpg  \n",
            "  inflating: Data/Train/head_lamp/broken_head_lamp_374.jpg  \n",
            "  inflating: Data/Train/head_lamp/broken_head_lamp_382.jpg  \n",
            "  inflating: Data/Train/head_lamp/broken_head_lamp_4.jpg  \n",
            "  inflating: Data/Train/head_lamp/broken_head_lamp_41.jpg  \n",
            "  inflating: Data/Train/head_lamp/broken_head_lamp_414.jpg  \n",
            "  inflating: Data/Train/head_lamp/broken_head_lamp_420.jpg  \n",
            "  inflating: Data/Train/head_lamp/broken_head_lamp_433.jpg  \n",
            "  inflating: Data/Train/head_lamp/broken_head_lamp_44.jpg  \n",
            "  inflating: Data/Train/head_lamp/broken_head_lamp_460.jpg  \n",
            "  inflating: Data/Train/head_lamp/broken_head_lamp_465.jpg  \n",
            "  inflating: Data/Train/head_lamp/broken_head_lamp_467.jpg  \n",
            "  inflating: Data/Train/head_lamp/broken_head_lamp_474.jpg  \n",
            "  inflating: Data/Train/head_lamp/broken_head_lamp_477.jpg  \n",
            "  inflating: Data/Train/head_lamp/broken_head_lamp_479.jpg  \n",
            "  inflating: Data/Train/head_lamp/broken_head_lamp_481.jpg  \n",
            "  inflating: Data/Train/head_lamp/broken_head_lamp_482.jpg  \n",
            "  inflating: Data/Train/head_lamp/broken_head_lamp_485.jpg  \n",
            "  inflating: Data/Train/head_lamp/broken_head_lamp_5.jpg  \n",
            "  inflating: Data/Train/head_lamp/broken_head_lamp_56.jpg  \n",
            "  inflating: Data/Train/head_lamp/broken_head_lamp_6.jpg  \n",
            "  inflating: Data/Train/head_lamp/broken_head_lamp_60.jpg  \n",
            "  inflating: Data/Train/head_lamp/broken_head_lamp_7.jpg  \n",
            "  inflating: Data/Train/head_lamp/broken_head_lamp_8.jpg  \n",
            "  inflating: Data/Train/head_lamp/broken_head_lamp_85.jpg  \n",
            "  inflating: Data/Train/head_lamp/broken_head_lamp_9.jpg  \n",
            "  inflating: Data/Train/head_lamp/bumper_dent_274.jpg  \n",
            "  inflating: Data/Train/head_lamp/car-after-crash-broken-headlight-bppw12.jpg  \n",
            "   creating: Data/Train/No Damaged/\n",
            "  inflating: Data/Train/No Damaged/0001.jpg  \n",
            "  inflating: Data/Train/No Damaged/0002.jpg  \n",
            "  inflating: Data/Train/No Damaged/0003.jpg  \n",
            "  inflating: Data/Train/No Damaged/0004.jpg  \n",
            "  inflating: Data/Train/No Damaged/0005.jpg  \n",
            "  inflating: Data/Train/No Damaged/0006.jpg  \n",
            "  inflating: Data/Train/No Damaged/0007.jpg  \n",
            "  inflating: Data/Train/No Damaged/0008.jpg  \n",
            "  inflating: Data/Train/No Damaged/0009.jpg  \n",
            "  inflating: Data/Train/No Damaged/0010.jpg  \n",
            "  inflating: Data/Train/No Damaged/0011.jpg  \n",
            "  inflating: Data/Train/No Damaged/0012.jpg  \n",
            "  inflating: Data/Train/No Damaged/0013.jpg  \n",
            "  inflating: Data/Train/No Damaged/0014.jpg  \n",
            "  inflating: Data/Train/No Damaged/0015.jpg  \n",
            "  inflating: Data/Train/No Damaged/0016.jpg  \n",
            "  inflating: Data/Train/No Damaged/0017.jpg  \n",
            "  inflating: Data/Train/No Damaged/0018.jpg  \n",
            "  inflating: Data/Train/No Damaged/0019.jpg  \n",
            "  inflating: Data/Train/No Damaged/0020.jpg  \n",
            "  inflating: Data/Train/No Damaged/0021.jpg  \n",
            "  inflating: Data/Train/No Damaged/0022.jpg  \n",
            "  inflating: Data/Train/No Damaged/0023.jpg  \n",
            "  inflating: Data/Train/No Damaged/0024.jpg  \n",
            "  inflating: Data/Train/No Damaged/0025.jpg  \n",
            "  inflating: Data/Train/No Damaged/0026.jpg  \n",
            "  inflating: Data/Train/No Damaged/0027.jpg  \n",
            "  inflating: Data/Train/No Damaged/0028.jpg  \n",
            "  inflating: Data/Train/No Damaged/0029.jpg  \n",
            "  inflating: Data/Train/No Damaged/0030.jpg  \n",
            "  inflating: Data/Train/No Damaged/0031.jpg  \n",
            "  inflating: Data/Train/No Damaged/0032.jpg  \n",
            "  inflating: Data/Train/No Damaged/0033.jpg  \n",
            "  inflating: Data/Train/No Damaged/0034.jpg  \n",
            "  inflating: Data/Train/No Damaged/0035.jpg  \n",
            "  inflating: Data/Train/No Damaged/0036.jpg  \n",
            "  inflating: Data/Train/No Damaged/0037.jpg  \n",
            "  inflating: Data/Train/No Damaged/0038.jpg  \n",
            "  inflating: Data/Train/No Damaged/0039.jpg  \n",
            "  inflating: Data/Train/No Damaged/0040.jpg  \n",
            "  inflating: Data/Train/No Damaged/0041.jpg  \n",
            "  inflating: Data/Train/No Damaged/0042.jpg  \n",
            "  inflating: Data/Train/No Damaged/0043.jpg  \n",
            "  inflating: Data/Train/No Damaged/0044.jpg  \n",
            "  inflating: Data/Train/No Damaged/0045.jpg  \n",
            "  inflating: Data/Train/No Damaged/0046.jpg  \n",
            "  inflating: Data/Train/No Damaged/0047.jpg  \n",
            "  inflating: Data/Train/No Damaged/0048.jpg  \n",
            "  inflating: Data/Train/No Damaged/0049.jpg  \n",
            "  inflating: Data/Train/No Damaged/0050.jpg  \n",
            "  inflating: Data/Train/No Damaged/0051.jpg  \n",
            "  inflating: Data/Train/No Damaged/0052.jpg  \n",
            "  inflating: Data/Train/No Damaged/0053.jpg  \n",
            "  inflating: Data/Train/No Damaged/0054.jpg  \n",
            "  inflating: Data/Train/No Damaged/0055.jpg  \n",
            "  inflating: Data/Train/No Damaged/0056.jpg  \n",
            "  inflating: Data/Train/No Damaged/0057.jpg  \n",
            "  inflating: Data/Train/No Damaged/0058.jpg  \n",
            "  inflating: Data/Train/No Damaged/0059.jpg  \n",
            "  inflating: Data/Train/No Damaged/0060.jpg  \n",
            "  inflating: Data/Train/No Damaged/0061.jpg  \n",
            "  inflating: Data/Train/No Damaged/0062.jpg  \n",
            "  inflating: Data/Train/No Damaged/0063.jpg  \n",
            "  inflating: Data/Train/No Damaged/0064.jpg  \n",
            "  inflating: Data/Train/No Damaged/0065.jpg  \n",
            "  inflating: Data/Train/No Damaged/0066.jpg  \n",
            "  inflating: Data/Train/No Damaged/0067.jpg  \n",
            "  inflating: Data/Train/No Damaged/0068.jpg  \n",
            "  inflating: Data/Train/No Damaged/0069.jpg  \n",
            "  inflating: Data/Train/No Damaged/0070.jpg  \n",
            "  inflating: Data/Train/No Damaged/0071.jpg  \n",
            "  inflating: Data/Train/No Damaged/0072.jpg  \n",
            "  inflating: Data/Train/No Damaged/0073.jpg  \n",
            "  inflating: Data/Train/No Damaged/0074.jpg  \n",
            "  inflating: Data/Train/No Damaged/0075.jpg  \n",
            "  inflating: Data/Train/No Damaged/0076.jpg  \n",
            "  inflating: Data/Train/No Damaged/0077.jpg  \n",
            "  inflating: Data/Train/No Damaged/0078.jpg  \n",
            "  inflating: Data/Train/No Damaged/0079.jpg  \n",
            "  inflating: Data/Train/No Damaged/0080.jpg  \n",
            "  inflating: Data/Train/No Damaged/0081.jpg  \n",
            "  inflating: Data/Train/No Damaged/0082.jpg  \n",
            "  inflating: Data/Train/No Damaged/0083.jpg  \n",
            "  inflating: Data/Train/No Damaged/0084.jpg  \n",
            "  inflating: Data/Train/No Damaged/0085.jpg  \n",
            "  inflating: Data/Train/No Damaged/0086.jpg  \n",
            "  inflating: Data/Train/No Damaged/0087.jpg  \n",
            "  inflating: Data/Train/No Damaged/0088.jpg  \n",
            "  inflating: Data/Train/No Damaged/0089.jpg  \n",
            "  inflating: Data/Train/No Damaged/0090.jpg  \n",
            "  inflating: Data/Train/No Damaged/0091.jpg  \n",
            "  inflating: Data/Train/No Damaged/0092.jpg  \n",
            "  inflating: Data/Train/No Damaged/0093.jpg  \n",
            "  inflating: Data/Train/No Damaged/0094.jpg  \n",
            "  inflating: Data/Train/No Damaged/0095.jpg  \n",
            "  inflating: Data/Train/No Damaged/0096.jpg  \n",
            "  inflating: Data/Train/No Damaged/0097.jpg  \n",
            "  inflating: Data/Train/No Damaged/0098.jpg  \n",
            "  inflating: Data/Train/No Damaged/0099.jpg  \n",
            "  inflating: Data/Train/No Damaged/0100.jpg  \n",
            "  inflating: Data/Train/No Damaged/0101.jpg  \n",
            "  inflating: Data/Train/No Damaged/0102.jpg  \n",
            "  inflating: Data/Train/No Damaged/0103.jpg  \n",
            "  inflating: Data/Train/No Damaged/0104.jpg  \n",
            "  inflating: Data/Train/No Damaged/0105.jpg  \n",
            "  inflating: Data/Train/No Damaged/0106.jpg  \n",
            "  inflating: Data/Train/No Damaged/0107.jpg  \n",
            "  inflating: Data/Train/No Damaged/0108.jpg  \n",
            "  inflating: Data/Train/No Damaged/0109.jpg  \n",
            "  inflating: Data/Train/No Damaged/0110.jpg  \n",
            "  inflating: Data/Train/No Damaged/0111.jpg  \n",
            "  inflating: Data/Train/No Damaged/0112.jpg  \n",
            "  inflating: Data/Train/No Damaged/0113.jpg  \n",
            "  inflating: Data/Train/No Damaged/0114.jpg  \n",
            "  inflating: Data/Train/No Damaged/0115.jpg  \n",
            "  inflating: Data/Train/No Damaged/0116.jpg  \n",
            "  inflating: Data/Train/No Damaged/0117.jpg  \n",
            "  inflating: Data/Train/No Damaged/0118.jpg  \n",
            "  inflating: Data/Train/No Damaged/0119.jpg  \n",
            "  inflating: Data/Train/No Damaged/0120.jpg  \n",
            "  inflating: Data/Train/No Damaged/0121.jpg  \n",
            "  inflating: Data/Train/No Damaged/0122.jpg  \n",
            "  inflating: Data/Train/No Damaged/0123.jpg  \n",
            "  inflating: Data/Train/No Damaged/0124.jpg  \n",
            "  inflating: Data/Train/No Damaged/0125.jpg  \n",
            "  inflating: Data/Train/No Damaged/0126.jpg  \n",
            "  inflating: Data/Train/No Damaged/0127.jpg  \n",
            "  inflating: Data/Train/No Damaged/0128.jpg  \n",
            "  inflating: Data/Train/No Damaged/0129.jpg  \n",
            "  inflating: Data/Train/No Damaged/0130.jpg  \n",
            "  inflating: Data/Train/No Damaged/0131.jpg  \n",
            "  inflating: Data/Train/No Damaged/0132.jpg  \n",
            "  inflating: Data/Train/No Damaged/0133.jpg  \n",
            "  inflating: Data/Train/No Damaged/0134.jpg  \n",
            "  inflating: Data/Train/No Damaged/0135.jpg  \n",
            "  inflating: Data/Train/No Damaged/0136.jpg  \n",
            "  inflating: Data/Train/No Damaged/0137.jpg  \n",
            "  inflating: Data/Train/No Damaged/0138.jpg  \n",
            "  inflating: Data/Train/No Damaged/0139.jpg  \n",
            "  inflating: Data/Train/No Damaged/0140.jpg  \n",
            "  inflating: Data/Train/No Damaged/0141.jpg  \n",
            "  inflating: Data/Train/No Damaged/0142.jpg  \n",
            "  inflating: Data/Train/No Damaged/0143.jpg  \n",
            "  inflating: Data/Train/No Damaged/0144.jpg  \n",
            "  inflating: Data/Train/No Damaged/0145.jpg  \n",
            "  inflating: Data/Train/No Damaged/0146.jpg  \n",
            "  inflating: Data/Train/No Damaged/0147.jpg  \n",
            "  inflating: Data/Train/No Damaged/0148.jpg  \n",
            "  inflating: Data/Train/No Damaged/0149.jpg  \n",
            "  inflating: Data/Train/No Damaged/0150.jpg  \n",
            "  inflating: Data/Train/No Damaged/0151.jpg  \n",
            "  inflating: Data/Train/No Damaged/0152.jpg  \n",
            "  inflating: Data/Train/No Damaged/0153.jpg  \n",
            "  inflating: Data/Train/No Damaged/0154.jpg  \n",
            "  inflating: Data/Train/No Damaged/0155.jpg  \n",
            "   creating: Data/Train/tail_lamp/\n",
            "  inflating: Data/Train/tail_lamp/0028.JPEG  \n",
            "  inflating: Data/Train/tail_lamp/0041.JPEG  \n",
            "  inflating: Data/Train/tail_lamp/0100.JPEG  \n",
            "  inflating: Data/Train/tail_lamp/1.jpg  \n",
            "  inflating: Data/Train/tail_lamp/1000_F_193412521_BW683aivfKmSQ3tdkplYUSw2XGXTofJp.jpg  \n",
            "  inflating: Data/Train/tail_lamp/227156068.jpg  \n",
            "  inflating: Data/Train/tail_lamp/6479481719_e86cc6fd13_b (1).jpg  \n",
            "  inflating: Data/Train/tail_lamp/800px_COLOURBOX8561743.jpg  \n",
            "  inflating: Data/Train/tail_lamp/brake_lights.jpg  \n",
            "  inflating: Data/Train/tail_lamp/broken-tail-light-AKBF7C.jpg  \n",
            "  inflating: Data/Train/tail_lamp/BrokenLens.jpg  \n",
            "  inflating: Data/Train/tail_lamp/broken_back_light_0.jpg  \n",
            "  inflating: Data/Train/tail_lamp/broken_back_light_1.jpg  \n",
            "  inflating: Data/Train/tail_lamp/broken_back_light_10.jpg  \n",
            "  inflating: Data/Train/tail_lamp/broken_back_light_116.jpg  \n",
            "  inflating: Data/Train/tail_lamp/broken_back_light_16.jpg  \n",
            "  inflating: Data/Train/tail_lamp/broken_back_light_201.jpg  \n",
            "  inflating: Data/Train/tail_lamp/broken_back_light_208.jpg  \n",
            "  inflating: Data/Train/tail_lamp/broken_back_light_38.jpg  \n",
            "  inflating: Data/Train/tail_lamp/broken_back_light_5.jpg  \n",
            "  inflating: Data/Train/tail_lamp/broken_back_light_59.jpg  \n",
            "  inflating: Data/Train/tail_lamp/broken_back_light_6.jpg  \n",
            "  inflating: Data/Train/tail_lamp/broken_back_light_60.jpg  \n",
            "  inflating: Data/Train/tail_lamp/broken_back_light_99.jpg  \n",
            "  inflating: Data/Train/tail_lamp/broken_back_light_car_12.jpg  \n",
            "  inflating: Data/Train/tail_lamp/broken_back_light_car_128.jpg  \n",
            "  inflating: Data/Train/tail_lamp/broken_back_light_car_166.jpg  \n",
            "  inflating: Data/Train/tail_lamp/broken_back_light_car_19.jpg  \n",
            "  inflating: Data/Train/tail_lamp/broken_back_light_car_21.jpg  \n",
            "  inflating: Data/Train/tail_lamp/broken_back_light_car_22.jpg  \n",
            "  inflating: Data/Train/tail_lamp/broken_back_light_car_25.jpg  \n",
            "  inflating: Data/Train/tail_lamp/broken_back_light_car_28.jpg  \n",
            "  inflating: Data/Train/tail_lamp/broken_back_light_car_30.jpg  \n",
            "  inflating: Data/Train/tail_lamp/broken_back_light_car_33.jpg  \n",
            "  inflating: Data/Train/tail_lamp/broken_back_light_car_35.jpg  \n",
            "  inflating: Data/Train/tail_lamp/broken_back_light_car_36.jpg  \n",
            "  inflating: Data/Train/tail_lamp/broken_back_light_car_41.jpg  \n",
            "  inflating: Data/Train/tail_lamp/broken_back_light_car_42.jpg  \n",
            "  inflating: Data/Train/tail_lamp/broken_back_light_car_44.jpg  \n",
            "  inflating: Data/Train/tail_lamp/broken_back_light_car_5.jpg  \n",
            "  inflating: Data/Train/tail_lamp/broken_back_light_car_52.jpg  \n",
            "  inflating: Data/Train/tail_lamp/broken_back_light_car_61.jpg  \n",
            "  inflating: Data/Train/tail_lamp/broken_back_light_car_63.jpg  \n",
            "  inflating: Data/Train/tail_lamp/broken_back_light_car_7.jpg  \n",
            "  inflating: Data/Train/tail_lamp/broken_car_light_10.jpg  \n",
            "  inflating: Data/Train/tail_lamp/broken_car_light_3.jpg  \n",
            "  inflating: Data/Train/tail_lamp/broken_car_light_8.jpg  \n",
            "  inflating: Data/Train/tail_lamp/broken_head_lamp_334.jpg  \n",
            "  inflating: Data/Train/tail_lamp/broken_head_lamp_426.jpg  \n",
            "  inflating: Data/Train/tail_lamp/broken_head_lamp_450.jpg  \n",
            "  inflating: Data/Train/tail_lamp/car-tail-light-has-broken-accident-61933734.jpg  \n",
            "  inflating: Data/Train/tail_lamp/crackedtaillight.jpg  \n",
            "  inflating: Data/Train/tail_lamp/cracked_tail_light (1).jpg  \n",
            "  inflating: Data/Train/tail_lamp/damage3.JPG  \n",
            "  inflating: Data/Train/tail_lamp/damaged_tail_light_cover_car_1.jpg  \n",
            "  inflating: Data/Train/tail_lamp/damaged_tail_light_cover_car_103.jpg  \n",
            "  inflating: Data/Train/tail_lamp/damaged_tail_light_cover_car_107.jpg  \n",
            "  inflating: Data/Train/tail_lamp/damaged_tail_light_cover_car_11.jpg  \n",
            "  inflating: Data/Train/tail_lamp/damaged_tail_light_cover_car_121.jpg  \n",
            "  inflating: Data/Train/tail_lamp/damaged_tail_light_cover_car_123.jpg  \n",
            "  inflating: Data/Train/tail_lamp/damaged_tail_light_cover_car_15.jpg  \n",
            "  inflating: Data/Train/tail_lamp/damaged_tail_light_cover_car_159.jpg  \n",
            "  inflating: Data/Train/tail_lamp/damaged_tail_light_cover_car_195.jpg  \n",
            "  inflating: Data/Train/tail_lamp/damaged_tail_light_cover_car_196.jpg  \n",
            "  inflating: Data/Train/tail_lamp/damaged_tail_light_cover_car_198.jpg  \n",
            "  inflating: Data/Train/tail_lamp/damaged_tail_light_cover_car_200.jpg  \n",
            "  inflating: Data/Train/tail_lamp/damaged_tail_light_cover_car_209.jpg  \n",
            "  inflating: Data/Train/tail_lamp/damaged_tail_light_cover_car_21.jpg  \n",
            "  inflating: Data/Train/tail_lamp/damaged_tail_light_cover_car_212.jpg  \n",
            "  inflating: Data/Train/tail_lamp/damaged_tail_light_cover_car_22.jpg  \n",
            "  inflating: Data/Train/tail_lamp/damaged_tail_light_cover_car_227.jpg  \n",
            "  inflating: Data/Train/tail_lamp/damaged_tail_light_cover_car_229.jpg  \n",
            "  inflating: Data/Train/tail_lamp/damaged_tail_light_cover_car_23.jpg  \n",
            "  inflating: Data/Train/tail_lamp/damaged_tail_light_cover_car_26.jpg  \n",
            "  inflating: Data/Train/tail_lamp/damaged_tail_light_cover_car_261.jpg  \n",
            "  inflating: Data/Train/tail_lamp/damaged_tail_light_cover_car_27.jpg  \n",
            "  inflating: Data/Train/tail_lamp/damaged_tail_light_cover_car_31.jpg  \n",
            "  inflating: Data/Train/tail_lamp/damaged_tail_light_cover_car_313.jpg  \n",
            "  inflating: Data/Train/tail_lamp/damaged_tail_light_cover_car_322.jpg  \n",
            "  inflating: Data/Train/tail_lamp/damaged_tail_light_cover_car_331.jpg  \n",
            "  inflating: Data/Train/tail_lamp/damaged_tail_light_cover_car_338.jpg  \n",
            "  inflating: Data/Train/tail_lamp/damaged_tail_light_cover_car_343.jpg  \n",
            "  inflating: Data/Train/tail_lamp/damaged_tail_light_cover_car_37.jpg  \n",
            "  inflating: Data/Train/tail_lamp/damaged_tail_light_cover_car_39.jpg  \n",
            "  inflating: Data/Train/tail_lamp/damaged_tail_light_cover_car_4.jpg  \n",
            "  inflating: Data/Train/tail_lamp/damaged_tail_light_cover_car_40.jpg  \n",
            "  inflating: Data/Train/tail_lamp/damaged_tail_light_cover_car_46.jpg  \n",
            "  inflating: Data/Train/tail_lamp/damaged_tail_light_cover_car_5.jpg  \n",
            "  inflating: Data/Train/tail_lamp/damaged_tail_light_cover_car_51.jpg  \n",
            "  inflating: Data/Train/tail_lamp/damaged_tail_light_cover_car_55.jpg  \n",
            "  inflating: Data/Train/tail_lamp/damaged_tail_light_cover_car_60.jpg  \n",
            "  inflating: Data/Train/tail_lamp/damaged_tail_light_cover_car_62.jpg  \n",
            "  inflating: Data/Train/tail_lamp/damaged_tail_light_cover_car_64.jpg  \n",
            "  inflating: Data/Train/tail_lamp/damaged_tail_light_cover_car_7.jpg  \n",
            "  inflating: Data/Train/tail_lamp/damaged_tail_light_cover_car_73.jpg  \n",
            "  inflating: Data/Train/tail_lamp/damaged_tail_light_cover_car_74.jpg  \n",
            "  inflating: Data/Train/tail_lamp/damaged_tail_light_cover_car_75.jpg  \n",
            "  inflating: Data/Train/tail_lamp/damaged_tail_light_cover_car_77.jpg  \n",
            "  inflating: Data/Train/tail_lamp/damaged_tail_light_cover_car_81.jpg  \n",
            "  inflating: Data/Train/tail_lamp/damaged_tail_light_cover_car_88.jpg  \n",
            "   creating: Data/Validation/\n",
            "   creating: Data/Validation/bumper_dent/\n",
            "  inflating: Data/Validation/bumper_dent/0003.JPEG  \n",
            "  inflating: Data/Validation/bumper_dent/0012.JPEG  \n",
            "  inflating: Data/Validation/bumper_dent/0014.JPEG  \n",
            "  inflating: Data/Validation/bumper_dent/0015.JPEG  \n",
            "  inflating: Data/Validation/bumper_dent/0019.JPEG  \n",
            "  inflating: Data/Validation/bumper_dent/0096.JPEG  \n",
            "  inflating: Data/Validation/bumper_dent/0188.JPEG  \n",
            "  inflating: Data/Validation/bumper_dent/1.jpg  \n",
            "  inflating: Data/Validation/bumper_dent/100_1079.jpg  \n",
            "  inflating: Data/Validation/bumper_dent/100_1080.jpg  \n",
            "  inflating: Data/Validation/bumper_dent/100_3086.jpg  \n",
            "  inflating: Data/Validation/bumper_dent/100_3089.jpg  \n",
            "  inflating: Data/Validation/bumper_dent/bumper_dent_24.jpg  \n",
            "  inflating: Data/Validation/bumper_dent/bumper_dent_25.jpg  \n",
            "  inflating: Data/Validation/bumper_dent/bumper_dent_27.jpg  \n",
            "  inflating: Data/Validation/bumper_dent/bumper_dent_28.jpg  \n",
            "  inflating: Data/Validation/bumper_dent/bumper_dent_29.jpg  \n",
            "  inflating: Data/Validation/bumper_dent/bumper_dent_32.jpg  \n",
            "  inflating: Data/Validation/bumper_dent/bumper_dent_34.jpg  \n",
            "  inflating: Data/Validation/bumper_dent/bumper_dent_37.jpg  \n",
            "  inflating: Data/Validation/bumper_dent/bumper_dent_38.jpg  \n",
            "  inflating: Data/Validation/bumper_dent/bumper_dent_42.jpg  \n",
            "  inflating: Data/Validation/bumper_dent/bumper_dent_47.jpg  \n",
            "  inflating: Data/Validation/bumper_dent/bumper_dent_52.jpg  \n",
            "   creating: Data/Validation/bumper_scratch/\n",
            "  inflating: Data/Validation/bumper_scratch/scratched_car_136.jpg  \n",
            "  inflating: Data/Validation/bumper_scratch/scratched_car_146.jpg  \n",
            "  inflating: Data/Validation/bumper_scratch/scratched_car_153.jpg  \n",
            "  inflating: Data/Validation/bumper_scratch/scratched_car_156.jpg  \n",
            "  inflating: Data/Validation/bumper_scratch/scratched_car_177.jpg  \n",
            "  inflating: Data/Validation/bumper_scratch/scratched_car_182.jpg  \n",
            "  inflating: Data/Validation/bumper_scratch/scratched_car_183.jpg  \n",
            "  inflating: Data/Validation/bumper_scratch/scratched_car_196.jpg  \n",
            "  inflating: Data/Validation/bumper_scratch/scratched_car_214.jpg  \n",
            "  inflating: Data/Validation/bumper_scratch/scratched_car_216.jpg  \n",
            "  inflating: Data/Validation/bumper_scratch/scratched_car_218.jpg  \n",
            "  inflating: Data/Validation/bumper_scratch/scratched_car_221.jpg  \n",
            "  inflating: Data/Validation/bumper_scratch/scratched_car_223.jpg  \n",
            "  inflating: Data/Validation/bumper_scratch/scratched_car_240.jpg  \n",
            "  inflating: Data/Validation/bumper_scratch/scratched_car_250.jpg  \n",
            "   creating: Data/Validation/Damaged/\n",
            "  inflating: Data/Validation/Damaged/smashed_car_135.jpg  \n",
            "  inflating: Data/Validation/Damaged/smashed_car_137.jpg  \n",
            "  inflating: Data/Validation/Damaged/smashed_car_139.jpg  \n",
            "  inflating: Data/Validation/Damaged/smashed_car_141.jpg  \n",
            "  inflating: Data/Validation/Damaged/smashed_car_142.jpg  \n",
            "  inflating: Data/Validation/Damaged/smashed_car_142.png  \n",
            "  inflating: Data/Validation/Damaged/smashed_car_153.jpg  \n",
            "  inflating: Data/Validation/Damaged/smashed_car_155.jpg  \n",
            "  inflating: Data/Validation/Damaged/smashed_car_156.jpg  \n",
            "  inflating: Data/Validation/Damaged/smashed_car_173.jpg  \n",
            "  inflating: Data/Validation/Damaged/smashed_car_176.jpg  \n",
            "  inflating: Data/Validation/Damaged/smashed_car_177.jpg  \n",
            "  inflating: Data/Validation/Damaged/smashed_car_182.jpg  \n",
            "  inflating: Data/Validation/Damaged/smashed_car_185.jpg  \n",
            "  inflating: Data/Validation/Damaged/smashed_car_186.jpg  \n",
            "  inflating: Data/Validation/Damaged/smashed_car_189.jpg  \n",
            "  inflating: Data/Validation/Damaged/smashed_car_192.jpg  \n",
            "  inflating: Data/Validation/Damaged/smashed_car_201.jpg  \n",
            "  inflating: Data/Validation/Damaged/smashed_car_203.jpg  \n",
            "  inflating: Data/Validation/Damaged/smashed_car_206.jpg  \n",
            "  inflating: Data/Validation/Damaged/smashed_car_217.png  \n",
            "  inflating: Data/Validation/Damaged/smashed_car_225.jpg  \n",
            "  inflating: Data/Validation/Damaged/smashed_car_231.jpg  \n",
            "  inflating: Data/Validation/Damaged/smashed_car_235.jpg  \n",
            "  inflating: Data/Validation/Damaged/smashed_car_253.jpg  \n",
            "  inflating: Data/Validation/Damaged/smashed_car_254.jpg  \n",
            "  inflating: Data/Validation/Damaged/smashed_car_259.jpg  \n",
            "  inflating: Data/Validation/Damaged/smashed_car_260.jpeg  \n",
            "  inflating: Data/Validation/Damaged/smashed_car_260.jpg  \n",
            "  inflating: Data/Validation/Damaged/smashed_car_262.jpg  \n",
            "  inflating: Data/Validation/Damaged/smashed_car_265.jpg  \n",
            "  inflating: Data/Validation/Damaged/smashed_car_272.jpg  \n",
            "  inflating: Data/Validation/Damaged/smashed_car_274.jpg  \n",
            "  inflating: Data/Validation/Damaged/smashed_car_275.jpg  \n",
            "  inflating: Data/Validation/Damaged/smashed_car_277.jpg  \n",
            "   creating: Data/Validation/door_dent/\n",
            "  inflating: Data/Validation/door_dent/door_dent_350.jpg  \n",
            "  inflating: Data/Validation/door_dent/door_dent_365.jpg  \n",
            "  inflating: Data/Validation/door_dent/door_dent_393.jpg  \n",
            "  inflating: Data/Validation/door_dent/door_dent_403.jpg  \n",
            "  inflating: Data/Validation/door_dent/door_dent_421.jpg  \n",
            "  inflating: Data/Validation/door_dent/door_dent_435.jpg  \n",
            "  inflating: Data/Validation/door_dent/door_dent_443.jpg  \n",
            "  inflating: Data/Validation/door_dent/door_dent_455.jpg  \n",
            "  inflating: Data/Validation/door_dent/door_dent_472.jpg  \n",
            "  inflating: Data/Validation/door_dent/door_dent_482.jpg  \n",
            "  inflating: Data/Validation/door_dent/DSC_0008.jpg  \n",
            "  inflating: Data/Validation/door_dent/fix-huge-dent-your-car-home-without-ruining-paint-job.1280x600.jpg  \n",
            "  inflating: Data/Validation/door_dent/mazda-large-dent-repair-side.jpg  \n",
            "  inflating: Data/Validation/door_dent/PICTURE OF CAR DOOR.jpg  \n",
            "  inflating: Data/Validation/door_dent/red-scratch-on-silver-car-door-exterior-KBARK3.jpg  \n",
            "  inflating: Data/Validation/door_dent/scratched_car_103.jpg  \n",
            "  inflating: Data/Validation/door_dent/scratched_car_108.jpg  \n",
            "  inflating: Data/Validation/door_dent/scratched_car_121.jpg  \n",
            "  inflating: Data/Validation/door_dent/scratched_car_138.jpg  \n",
            "  inflating: Data/Validation/door_dent/scratched_car_15.jpg  \n",
            "  inflating: Data/Validation/door_dent/scratched_car_160.jpg  \n",
            "  inflating: Data/Validation/door_dent/scratched_car_226.jpg  \n",
            "  inflating: Data/Validation/door_dent/scratched_car_242.jpg  \n",
            "  inflating: Data/Validation/door_dent/scratched_car_283.jpg  \n",
            "  inflating: Data/Validation/door_dent/scratched_car_288.jpg  \n",
            "  inflating: Data/Validation/door_dent/scratched_car_34.jpg  \n",
            "  inflating: Data/Validation/door_dent/scratched_car_383.jpg  \n",
            "  inflating: Data/Validation/door_dent/scratched_car_43.jpg  \n",
            "  inflating: Data/Validation/door_dent/scratched_car_458.jpg  \n",
            "  inflating: Data/Validation/door_dent/scratched_car_467.jpg  \n",
            "  inflating: Data/Validation/door_dent/scratched_car_489.jpg  \n",
            "  inflating: Data/Validation/door_dent/scratched_car_75.jpg  \n",
            "  inflating: Data/Validation/door_dent/scratched_car_78.jpg  \n",
            "  inflating: Data/Validation/door_dent/scratched_car_93.jpg  \n",
            "  inflating: Data/Validation/door_dent/smashed_car_244.jpg  \n",
            "  inflating: Data/Validation/door_dent/ttn_186587106.jpg  \n",
            "  inflating: Data/Validation/door_dent/XM_2XFuvjcjVeF0UBf7z0ztZ0BuCptcIjspiuBijmMwYhxzfPObP7sExh_vAneV7jgwyXI-r3FtmcFewpP7UsURpsOo-Hw.jpg  \n",
            "   creating: Data/Validation/door_scratch/\n",
            "  inflating: Data/Validation/door_scratch/scratched-car-paint-door-rubber-out-focus-42226191.jpg  \n",
            "  inflating: Data/Validation/door_scratch/scratched-car-paint-out-of-focus-MCBPX8.jpg  \n",
            "  inflating: Data/Validation/door_scratch/scratched-door-paint-car-close-up-45023379.jpg  \n",
            "  inflating: Data/Validation/door_scratch/scratched-vehicle-white-road-side-black-scratch-mark-left-door-55323340.jpg  \n",
            "  inflating: Data/Validation/door_scratch/scratched_car_198.png  \n",
            "  inflating: Data/Validation/door_scratch/scratched_car_204.jpg  \n",
            "  inflating: Data/Validation/door_scratch/scratched_car_215.jpg  \n",
            "  inflating: Data/Validation/door_scratch/scratched_car_230.jpg  \n",
            "  inflating: Data/Validation/door_scratch/scratched_car_244.jpg  \n",
            "  inflating: Data/Validation/door_scratch/scratched_car_260.jpg  \n",
            "  inflating: Data/Validation/door_scratch/scratched_car_270.jpg  \n",
            "  inflating: Data/Validation/door_scratch/scratched_car_271.png  \n",
            "  inflating: Data/Validation/door_scratch/scratched_car_274.jpg  \n",
            "  inflating: Data/Validation/door_scratch/scratched_car_295.jpg  \n",
            "  inflating: Data/Validation/door_scratch/scratched_car_305.jpg  \n",
            "  inflating: Data/Validation/door_scratch/scratched_car_311.jpg  \n",
            "  inflating: Data/Validation/door_scratch/scratched_car_320.jpg  \n",
            "  inflating: Data/Validation/door_scratch/scratched_car_321.jpg  \n",
            "  inflating: Data/Validation/door_scratch/scratched_car_324.jpg  \n",
            "  inflating: Data/Validation/door_scratch/scratched_car_339.jpg  \n",
            "  inflating: Data/Validation/door_scratch/scratched_car_341.jpg  \n",
            "  inflating: Data/Validation/door_scratch/scratched_car_342.jpg  \n",
            "  inflating: Data/Validation/door_scratch/scratched_car_347.jpg  \n",
            "  inflating: Data/Validation/door_scratch/scratched_car_362.jpg  \n",
            "  inflating: Data/Validation/door_scratch/scratched_car_376.jpg  \n",
            "  inflating: Data/Validation/door_scratch/scratched_car_390.jpg  \n",
            "  inflating: Data/Validation/door_scratch/scratched_car_401.jpg  \n",
            "  inflating: Data/Validation/door_scratch/scratched_car_422.jpg  \n",
            "  inflating: Data/Validation/door_scratch/scratched_car_433.jpg  \n",
            "  inflating: Data/Validation/door_scratch/scratched_car_434.jpg  \n",
            "  inflating: Data/Validation/door_scratch/stock-photo-car-scratch-hit-438986560.jpg  \n",
            "  inflating: Data/Validation/door_scratch/stock-photo-red-scratched-car-with-damaged-paint-in-crash-accident-on-the-street-or-parking-lot-in-the-city-1096292750.jpg  \n",
            "  inflating: Data/Validation/door_scratch/stock-photo-scratched-car-paint-with-door-handle-and-tire-out-of-focus-76002598.jpg  \n",
            "  inflating: Data/Validation/door_scratch/westminster-cars-keyed-10pkg_frame_525.jpg  \n",
            "   creating: Data/Validation/glass_shatter/\n",
            "  inflating: Data/Validation/glass_shatter/smashed_car_146.jpg  \n",
            "  inflating: Data/Validation/glass_shatter/smashed_car_174.jpg  \n",
            "  inflating: Data/Validation/glass_shatter/smashed_car_176.jpg  \n",
            "  inflating: Data/Validation/glass_shatter/smashed_car_188.jpg  \n",
            "  inflating: Data/Validation/glass_shatter/smashed_car_198.jpg  \n",
            "  inflating: Data/Validation/glass_shatter/smashed_car_218.png  \n",
            "  inflating: Data/Validation/glass_shatter/smashed_car_236.jpg  \n",
            "  inflating: Data/Validation/glass_shatter/smashed_car_238.jpg  \n",
            "  inflating: Data/Validation/glass_shatter/smashed_car_245.jpg  \n",
            "  inflating: Data/Validation/glass_shatter/smashed_car_252.jpg  \n",
            "  inflating: Data/Validation/glass_shatter/smashed_car_255.jpg  \n",
            "  inflating: Data/Validation/glass_shatter/smashed_car_261.jpg  \n",
            "  inflating: Data/Validation/glass_shatter/smashed_car_264.jpg  \n",
            "  inflating: Data/Validation/glass_shatter/smashed_car_273.jpg  \n",
            "  inflating: Data/Validation/glass_shatter/smashed_car_284.jpg  \n",
            "  inflating: Data/Validation/glass_shatter/smashed_car_287.jpg  \n",
            "  inflating: Data/Validation/glass_shatter/smashed_car_297.jpg  \n",
            "  inflating: Data/Validation/glass_shatter/smashed_car_298.jpg  \n",
            "  inflating: Data/Validation/glass_shatter/smashed_car_299.jpg  \n",
            "  inflating: Data/Validation/glass_shatter/smashed_car_302.jpg  \n",
            "  inflating: Data/Validation/glass_shatter/smashed_car_304.jpg  \n",
            "  inflating: Data/Validation/glass_shatter/smashed_car_308.jpg  \n",
            "  inflating: Data/Validation/glass_shatter/smashed_car_313.jpg  \n",
            "  inflating: Data/Validation/glass_shatter/smashed_car_314.jpg  \n",
            "  inflating: Data/Validation/glass_shatter/smashed_car_360.jpg  \n",
            "  inflating: Data/Validation/glass_shatter/smashed_car_369.jpg  \n",
            "  inflating: Data/Validation/glass_shatter/smashed_car_381.jpg  \n",
            "  inflating: Data/Validation/glass_shatter/smashed_car_382.jpg  \n",
            "  inflating: Data/Validation/glass_shatter/smashed_car_394.jpg  \n",
            "  inflating: Data/Validation/glass_shatter/smashed_car_395.jpg  \n",
            "   creating: Data/Validation/head_lamp/\n",
            "  inflating: Data/Validation/head_lamp/download (10).jpeg  \n",
            "  inflating: Data/Validation/head_lamp/download (3).jpeg  \n",
            "  inflating: Data/Validation/head_lamp/download (6).jpeg  \n",
            "  inflating: Data/Validation/head_lamp/download (7).jpeg  \n",
            "  inflating: Data/Validation/head_lamp/download (8).jpeg  \n",
            "  inflating: Data/Validation/head_lamp/download (9).jpeg  \n",
            "  inflating: Data/Validation/head_lamp/download.jpeg  \n",
            "  inflating: Data/Validation/head_lamp/DSCN5675.JPG  \n",
            "  inflating: Data/Validation/head_lamp/Fotolia_61742678_Subscription_Monthly_M-1024x682.jpg  \n",
            "  inflating: Data/Validation/head_lamp/gettyimages-127070493-170667a.jpg  \n",
            "  inflating: Data/Validation/head_lamp/Headlight-Lens-Cover-Broken-Cracked.jpg  \n",
            "  inflating: Data/Validation/head_lamp/household_automotive_brokenheadlight-768x512.jpg  \n",
            "  inflating: Data/Validation/head_lamp/img_0917.jpg  \n",
            "  inflating: Data/Validation/head_lamp/IMG_20120501_131946.jpg  \n",
            "  inflating: Data/Validation/head_lamp/mercury_tears_by_someonewhoisntme_d5dfy76-fullview.jpg  \n",
            "  inflating: Data/Validation/head_lamp/PB080010.jpg  \n",
            "  inflating: Data/Validation/head_lamp/protection-1.jpg  \n",
            "  inflating: Data/Validation/head_lamp/psb.jpeg  \n",
            "  inflating: Data/Validation/head_lamp/stock-photo-broken-headlight-of-a-car-631282187.jpg  \n",
            "  inflating: Data/Validation/head_lamp/stock-photo-busted-headlight-with-rock-544869.jpg  \n",
            "  inflating: Data/Validation/head_lamp/stock-photo-color-image-of-a-crashed-car-with-broken-headlight-539674909.jpg  \n",
            "   creating: Data/Validation/No Damaged/\n",
            "  inflating: Data/Validation/No Damaged/0203.jpg  \n",
            "  inflating: Data/Validation/No Damaged/0204.jpg  \n",
            "  inflating: Data/Validation/No Damaged/0205.jpg  \n",
            "  inflating: Data/Validation/No Damaged/0206.jpg  \n",
            "  inflating: Data/Validation/No Damaged/0207.jpg  \n",
            "  inflating: Data/Validation/No Damaged/0208.jpg  \n",
            "  inflating: Data/Validation/No Damaged/0209.jpg  \n",
            "  inflating: Data/Validation/No Damaged/0210.jpg  \n",
            "  inflating: Data/Validation/No Damaged/0211.jpg  \n",
            "  inflating: Data/Validation/No Damaged/0212.jpg  \n",
            "  inflating: Data/Validation/No Damaged/0213.jpg  \n",
            "  inflating: Data/Validation/No Damaged/0214.jpg  \n",
            "  inflating: Data/Validation/No Damaged/0215.jpg  \n",
            "  inflating: Data/Validation/No Damaged/0216.jpg  \n",
            "  inflating: Data/Validation/No Damaged/0217.jpg  \n",
            "  inflating: Data/Validation/No Damaged/0218.jpg  \n",
            "  inflating: Data/Validation/No Damaged/0219.jpg  \n",
            "  inflating: Data/Validation/No Damaged/0220.jpg  \n",
            "  inflating: Data/Validation/No Damaged/0221.jpg  \n",
            "  inflating: Data/Validation/No Damaged/0222.jpg  \n",
            "  inflating: Data/Validation/No Damaged/0223.jpg  \n",
            "  inflating: Data/Validation/No Damaged/0224.jpg  \n",
            "  inflating: Data/Validation/No Damaged/0225.jpg  \n",
            "  inflating: Data/Validation/No Damaged/0226.jpg  \n",
            "  inflating: Data/Validation/No Damaged/0227.jpg  \n",
            "  inflating: Data/Validation/No Damaged/0228.jpg  \n",
            "  inflating: Data/Validation/No Damaged/0229.jpg  \n",
            "  inflating: Data/Validation/No Damaged/0230.jpg  \n",
            "  inflating: Data/Validation/No Damaged/0231.jpg  \n",
            "  inflating: Data/Validation/No Damaged/0232.jpg  \n",
            "  inflating: Data/Validation/No Damaged/0233.jpg  \n",
            "  inflating: Data/Validation/No Damaged/0234.jpg  \n",
            "  inflating: Data/Validation/No Damaged/0235.jpg  \n",
            "  inflating: Data/Validation/No Damaged/0236.jpg  \n",
            "  inflating: Data/Validation/No Damaged/0237.jpg  \n",
            "  inflating: Data/Validation/No Damaged/0238.jpg  \n",
            "  inflating: Data/Validation/No Damaged/0239.jpg  \n",
            "  inflating: Data/Validation/No Damaged/0240.jpg  \n",
            "  inflating: Data/Validation/No Damaged/0241.jpg  \n",
            "  inflating: Data/Validation/No Damaged/0242.jpg  \n",
            "  inflating: Data/Validation/No Damaged/0243.jpg  \n",
            "  inflating: Data/Validation/No Damaged/0244.jpg  \n",
            "  inflating: Data/Validation/No Damaged/0245.jpg  \n",
            "  inflating: Data/Validation/No Damaged/0246.jpg  \n",
            "  inflating: Data/Validation/No Damaged/0247.jpg  \n",
            "  inflating: Data/Validation/No Damaged/0248.jpg  \n",
            "  inflating: Data/Validation/No Damaged/0249.jpg  \n",
            "  inflating: Data/Validation/No Damaged/0250.jpg  \n",
            "  inflating: Data/Validation/No Damaged/0251.jpg  \n",
            "  inflating: Data/Validation/No Damaged/0252.jpg  \n",
            "   creating: Data/Validation/tail_lamp/\n",
            "  inflating: Data/Validation/tail_lamp/Tail-lamp_broken_111.jpg  \n",
            "  inflating: Data/Validation/tail_lamp/Tail-lamp_broken_114(1).jpg  \n",
            "  inflating: Data/Validation/tail_lamp/Tail-lamp_broken_114(2).jpg  \n",
            "  inflating: Data/Validation/tail_lamp/Tail-lamp_broken_114.jpg  \n",
            "  inflating: Data/Validation/tail_lamp/Tail-lamp_broken_12.jpg  \n",
            "  inflating: Data/Validation/tail_lamp/Tail-lamp_broken_123.jpg  \n",
            "  inflating: Data/Validation/tail_lamp/Tail-lamp_broken_14(1).jpg  \n",
            "  inflating: Data/Validation/tail_lamp/Tail-lamp_broken_14(2).jpg  \n",
            "  inflating: Data/Validation/tail_lamp/Tail-lamp_broken_14(3).jpg  \n",
            "  inflating: Data/Validation/tail_lamp/Tail-lamp_broken_14.jpg  \n",
            "  inflating: Data/Validation/tail_lamp/Tail-lamp_broken_140(1).jpg  \n",
            "  inflating: Data/Validation/tail_lamp/Tail-lamp_broken_140.jpg  \n",
            "  inflating: Data/Validation/tail_lamp/Tail-lamp_broken_16(1).jpg  \n",
            "  inflating: Data/Validation/tail_lamp/Tail-lamp_broken_16.jpg  \n",
            "  inflating: Data/Validation/tail_lamp/Tail-lamp_broken_17.jpg  \n",
            "  inflating: Data/Validation/tail_lamp/Tail-lamp_broken_171.jpg  \n",
            "  inflating: Data/Validation/tail_lamp/Tail-lamp_broken_21.jpg  \n",
            "  inflating: Data/Validation/tail_lamp/Tail-lamp_broken_23.jpg  \n",
            "  inflating: Data/Validation/tail_lamp/Tail-lamp_broken_45(1).jpg  \n",
            "  inflating: Data/Validation/tail_lamp/Tail-lamp_broken_45.jpg  \n",
            "  inflating: Data/Validation/tail_lamp/Tail-lamp_broken_53.jpg  \n",
            "  inflating: Data/Validation/tail_lamp/Tail-lamp_broken_73.jpg  \n",
            "  inflating: Data/Validation/tail_lamp/Tail-lamp_broken_74.jpg  \n",
            "  inflating: Data/Validation/tail_lamp/Tail-lamp_broken_78.jpg  \n",
            "  inflating: Data/Validation/tail_lamp/Tail-lamp_broken_8.jpg  \n",
            "  inflating: Data/Validation/tail_lamp/tail-light-broken-accident-close-up-to-75788865.jpg  \n",
            "  inflating: Data/Validation/tail_lamp/taillight-broken_zps420274f1.jpg  \n",
            "  inflating: Data/Validation/tail_lamp/Understanding-Personal-Injury-Settlement-for-Car-Accident-Cases-Part-Two-GАУ-By-a-Los-Angeles-Car-Accident-Lawyer.jpg  \n",
            "  inflating: Data/Validation/tail_lamp/unnamed-2.jpg  \n"
          ],
          "name": "stdout"
        }
      ]
    },
    {
      "cell_type": "code",
      "metadata": {
        "id": "oRMiIsvK-G9I",
        "colab_type": "code",
        "colab": {}
      },
      "source": [
        "from keras.preprocessing.image import load_img"
      ],
      "execution_count": 2,
      "outputs": []
    },
    {
      "cell_type": "markdown",
      "metadata": {
        "id": "2h4zRPC3cNEA",
        "colab_type": "text"
      },
      "source": [
        ""
      ]
    },
    {
      "cell_type": "code",
      "metadata": {
        "id": "T7dxYLB9-G4b",
        "colab_type": "code",
        "colab": {
          "base_uri": "https://localhost:8080/",
          "height": 317
        },
        "outputId": "30ce7ad1-69fb-4d2e-abe0-7f58fa9357b1"
      },
      "source": [
        "img = load_img(\"Data/Validation/No Damaged/0219.jpg\",target_size=(300,300))\n",
        "img"
      ],
      "execution_count": 3,
      "outputs": [
        {
          "output_type": "execute_result",
          "data": {
            "image/png": "[encoded data removed]",
            "text/plain": [
              "<PIL.Image.Image image mode=RGB size=300x300 at 0x7F4AE05F1198>"
            ]
          },
          "metadata": {
            "tags": []
          },
          "execution_count": 3
        }
      ]
    },
    {
      "cell_type": "code",
      "metadata": {
        "id": "s3qrq93O-gM5",
        "colab_type": "code",
        "colab": {
          "base_uri": "https://localhost:8080/",
          "height": 35
        },
        "outputId": "38b90a40-12c0-4ef4-a243-ce09a92bca65"
      },
      "source": [
        "print(img.size)"
      ],
      "execution_count": 4,
      "outputs": [
        {
          "output_type": "stream",
          "text": [
            "(300, 300)\n"
          ],
          "name": "stdout"
        }
      ]
    },
    {
      "cell_type": "code",
      "metadata": {
        "id": "YAEuXG5T1G4L",
        "colab_type": "code",
        "colab": {
          "base_uri": "https://localhost:8080/",
          "height": 35
        },
        "outputId": "a117b952-6506-4906-8db5-01b692d67fb7"
      },
      "source": [
        "listdir(\"/content/Data\")"
      ],
      "execution_count": 7,
      "outputs": [
        {
          "output_type": "execute_result",
          "data": {
            "text/plain": [
              "['Train', 'Test', 'Validation']"
            ]
          },
          "metadata": {
            "tags": []
          },
          "execution_count": 7
        }
      ]
    },
    {
      "cell_type": "code",
      "metadata": {
        "id": "3vY-kpun4g5s",
        "colab_type": "code",
        "colab": {}
      },
      "source": [
        "i=0\n",
        "for j in range(1,4):\n",
        "  xi=[]\n",
        "  xi.append(j)\n",
        "  i=i+1"
      ],
      "execution_count": 8,
      "outputs": []
    },
    {
      "cell_type": "code",
      "metadata": {
        "id": "y5drYEo84y8M",
        "colab_type": "code",
        "colab": {}
      },
      "source": [
        ""
      ],
      "execution_count": 8,
      "outputs": []
    },
    {
      "cell_type": "code",
      "metadata": {
        "id": "9Nu_FwQ44zAO",
        "colab_type": "code",
        "colab": {}
      },
      "source": [
        "from PIL import Image\n",
        "from keras.preprocessing.image import load_img\n",
        "from keras.preprocessing.image import img_to_array"
      ],
      "execution_count": 9,
      "outputs": []
    },
    {
      "cell_type": "code",
      "metadata": {
        "id": "D-A7a8F_1YBc",
        "colab_type": "code",
        "colab": {}
      },
      "source": [
        "folder=\"/content/Data/Test\"\n",
        "x_test, y_test = list(), list()\n",
        "for file1 in listdir(folder):\n",
        "  file2=folder + \"/\" + file1\n",
        "  for file3 in listdir(file2):\n",
        "    file4=file2+\"/\" + file3\n",
        "    image = load_img(file4,target_size=(300,300))\n",
        "    image=img_to_array(image)\n",
        "    x_test.append(image)\n",
        "    y_test.append(file1)\n"
      ],
      "execution_count": 10,
      "outputs": []
    },
    {
      "cell_type": "code",
      "metadata": {
        "id": "6rvwYjJy7FZg",
        "colab_type": "code",
        "colab": {
          "base_uri": "https://localhost:8080/",
          "height": 35
        },
        "outputId": "b5e52a17-aa72-46f6-b592-32190d9af1ae"
      },
      "source": [
        "len(x_test)"
      ],
      "execution_count": 11,
      "outputs": [
        {
          "output_type": "execute_result",
          "data": {
            "text/plain": [
              "252"
            ]
          },
          "metadata": {
            "tags": []
          },
          "execution_count": 11
        }
      ]
    },
    {
      "cell_type": "code",
      "metadata": {
        "id": "qE47RJ2O7LhW",
        "colab_type": "code",
        "colab": {
          "base_uri": "https://localhost:8080/",
          "height": 888
        },
        "outputId": "fda8db47-bd0f-4d21-b4b4-29d71511be30"
      },
      "source": [
        "x_test[0]"
      ],
      "execution_count": 12,
      "outputs": [
        {
          "output_type": "execute_result",
          "data": {
            "text/plain": [
              "array([[[199., 189., 197.],\n",
              "        [199., 188., 194.],\n",
              "        [199., 188., 194.],\n",
              "        ...,\n",
              "        [  0.,   6.,   0.],\n",
              "        [ 18.,  23.,  19.],\n",
              "        [ 71.,  82.,  76.]],\n",
              "\n",
              "       [[200., 190., 198.],\n",
              "        [199., 188., 194.],\n",
              "        [199., 188., 194.],\n",
              "        ...,\n",
              "        [ 32.,  44.,  22.],\n",
              "        [  5.,  13.,   2.],\n",
              "        [ 25.,  36.,  32.]],\n",
              "\n",
              "       [[201., 191., 199.],\n",
              "        [200., 189., 195.],\n",
              "        [199., 188., 194.],\n",
              "        ...,\n",
              "        [ 39.,  53.,  28.],\n",
              "        [  7.,  20.,   2.],\n",
              "        [ 15.,  28.,  21.]],\n",
              "\n",
              "       ...,\n",
              "\n",
              "       [[215., 209., 211.],\n",
              "        [218., 214., 215.],\n",
              "        [217., 215., 216.],\n",
              "        ...,\n",
              "        [225., 220., 216.],\n",
              "        [222., 218., 217.],\n",
              "        [221., 217., 216.]],\n",
              "\n",
              "       [[214., 208., 210.],\n",
              "        [217., 213., 214.],\n",
              "        [219., 217., 218.],\n",
              "        ...,\n",
              "        [223., 218., 214.],\n",
              "        [224., 220., 219.],\n",
              "        [222., 218., 217.]],\n",
              "\n",
              "       [[214., 208., 210.],\n",
              "        [215., 211., 212.],\n",
              "        [213., 211., 212.],\n",
              "        ...,\n",
              "        [221., 216., 212.],\n",
              "        [226., 222., 221.],\n",
              "        [223., 219., 218.]]], dtype=float32)"
            ]
          },
          "metadata": {
            "tags": []
          },
          "execution_count": 12
        }
      ]
    },
    {
      "cell_type": "code",
      "metadata": {
        "id": "0gNQc1wL7Fdx",
        "colab_type": "code",
        "colab": {
          "base_uri": "https://localhost:8080/",
          "height": 35
        },
        "outputId": "8e818e61-d594-4f9a-998b-ba0021cf5bb3"
      },
      "source": [
        "len(y_test)"
      ],
      "execution_count": 13,
      "outputs": [
        {
          "output_type": "execute_result",
          "data": {
            "text/plain": [
              "252"
            ]
          },
          "metadata": {
            "tags": []
          },
          "execution_count": 13
        }
      ]
    },
    {
      "cell_type": "code",
      "metadata": {
        "id": "ORVD9JOu7QDo",
        "colab_type": "code",
        "colab": {
          "base_uri": "https://localhost:8080/",
          "height": 36
        },
        "outputId": "d2808d39-d6e0-4a7e-aa60-630922d467bb"
      },
      "source": [
        "y_test[0]"
      ],
      "execution_count": 14,
      "outputs": [
        {
          "output_type": "execute_result",
          "data": {
            "application/vnd.google.colaboratory.intrinsic+json": {
              "type": "string"
            },
            "text/plain": [
              "'tail_lamp'"
            ]
          },
          "metadata": {
            "tags": []
          },
          "execution_count": 14
        }
      ]
    },
    {
      "cell_type": "code",
      "metadata": {
        "id": "wo-8KuZw7Dwq",
        "colab_type": "code",
        "colab": {}
      },
      "source": [
        "x_test=asarray(x_test)\n"
      ],
      "execution_count": 15,
      "outputs": []
    },
    {
      "cell_type": "code",
      "metadata": {
        "id": "vZKgn-Dm7g__",
        "colab_type": "code",
        "colab": {
          "base_uri": "https://localhost:8080/",
          "height": 35
        },
        "outputId": "72af370f-6eca-4d85-a9b8-8c6dae0e5480"
      },
      "source": [
        "x_test.shape"
      ],
      "execution_count": 16,
      "outputs": [
        {
          "output_type": "execute_result",
          "data": {
            "text/plain": [
              "(252, 300, 300, 3)"
            ]
          },
          "metadata": {
            "tags": []
          },
          "execution_count": 16
        }
      ]
    },
    {
      "cell_type": "code",
      "metadata": {
        "id": "mlU8V9q-7D1r",
        "colab_type": "code",
        "colab": {}
      },
      "source": [
        "y_test=asarray(y_test)"
      ],
      "execution_count": 17,
      "outputs": []
    },
    {
      "cell_type": "code",
      "metadata": {
        "id": "_kV-AmUI1npo",
        "colab_type": "code",
        "colab": {
          "base_uri": "https://localhost:8080/",
          "height": 35
        },
        "outputId": "d8d8d02b-04f6-475f-b6a3-d74720ce95ed"
      },
      "source": [
        "x_test.shape"
      ],
      "execution_count": 18,
      "outputs": [
        {
          "output_type": "execute_result",
          "data": {
            "text/plain": [
              "(252, 300, 300, 3)"
            ]
          },
          "metadata": {
            "tags": []
          },
          "execution_count": 18
        }
      ]
    },
    {
      "cell_type": "code",
      "metadata": {
        "id": "YebzHWr26PiU",
        "colab_type": "code",
        "colab": {}
      },
      "source": [
        ""
      ],
      "execution_count": 18,
      "outputs": []
    },
    {
      "cell_type": "code",
      "metadata": {
        "id": "YPgce4X56Txe",
        "colab_type": "code",
        "colab": {}
      },
      "source": [
        "folder=\"/content/Data/Train\"\n",
        "x_train, y_train = list(), list()\n",
        "for file1 in listdir(folder):\n",
        "  file2=folder + \"/\" + file1\n",
        "  for file3 in listdir(file2):\n",
        "    file4=file2+\"/\" + file3\n",
        "    image = load_img(file4,target_size=(300,300))\n",
        "    image=img_to_array(image)\n",
        "    x_train.append(image)\n",
        "    y_train.append(file1)\n"
      ],
      "execution_count": 19,
      "outputs": []
    },
    {
      "cell_type": "code",
      "metadata": {
        "id": "pZ41uOTd_6mj",
        "colab_type": "code",
        "colab": {
          "base_uri": "https://localhost:8080/",
          "height": 35
        },
        "outputId": "af402fae-4ab7-4548-a5fa-9a998aee9a66"
      },
      "source": [
        "x_train=asarray(x_train)\n",
        "x_train.shape\n"
      ],
      "execution_count": 20,
      "outputs": [
        {
          "output_type": "execute_result",
          "data": {
            "text/plain": [
              "(1040, 300, 300, 3)"
            ]
          },
          "metadata": {
            "tags": []
          },
          "execution_count": 20
        }
      ]
    },
    {
      "cell_type": "code",
      "metadata": {
        "id": "ZLZRzdXtADyW",
        "colab_type": "code",
        "colab": {
          "base_uri": "https://localhost:8080/",
          "height": 35
        },
        "outputId": "89502bcd-5311-4157-e240-9f9d7683b80a"
      },
      "source": [
        "y_train=asarray(y_train)\n",
        "x_train.shape"
      ],
      "execution_count": 21,
      "outputs": [
        {
          "output_type": "execute_result",
          "data": {
            "text/plain": [
              "(1040, 300, 300, 3)"
            ]
          },
          "metadata": {
            "tags": []
          },
          "execution_count": 21
        }
      ]
    },
    {
      "cell_type": "code",
      "metadata": {
        "id": "RLSINjxdAILJ",
        "colab_type": "code",
        "colab": {}
      },
      "source": [
        "folder=\"/content/Data/Validation\"\n",
        "x_val, y_val = list(), list()\n",
        "for file1 in listdir(folder):\n",
        "  file2=folder + \"/\" + file1\n",
        "  for file3 in listdir(file2):\n",
        "    file4=file2+\"/\" + file3\n",
        "    image = load_img(file4,target_size=(300,300))\n",
        "    image=img_to_array(image)\n",
        "    x_val.append(image)\n",
        "    y_val.append(file1)\n"
      ],
      "execution_count": 22,
      "outputs": []
    },
    {
      "cell_type": "code",
      "metadata": {
        "id": "8dwPHFpRASoQ",
        "colab_type": "code",
        "colab": {
          "base_uri": "https://localhost:8080/",
          "height": 35
        },
        "outputId": "598b64c0-769d-41de-8f37-4e2d54d6c1cd"
      },
      "source": [
        "x_val=asarray(x_val)\n",
        "x_val.shape\n"
      ],
      "execution_count": 23,
      "outputs": [
        {
          "output_type": "execute_result",
          "data": {
            "text/plain": [
              "(275, 300, 300, 3)"
            ]
          },
          "metadata": {
            "tags": []
          },
          "execution_count": 23
        }
      ]
    },
    {
      "cell_type": "code",
      "metadata": {
        "id": "sPNm-BQvAWb3",
        "colab_type": "code",
        "colab": {
          "base_uri": "https://localhost:8080/",
          "height": 35
        },
        "outputId": "756b3364-3de1-4863-9b5d-601f2580fdc0"
      },
      "source": [
        "y_val=asarray(y_val)\n",
        "y_val.shape\n"
      ],
      "execution_count": 24,
      "outputs": [
        {
          "output_type": "execute_result",
          "data": {
            "text/plain": [
              "(275,)"
            ]
          },
          "metadata": {
            "tags": []
          },
          "execution_count": 24
        }
      ]
    },
    {
      "cell_type": "code",
      "metadata": {
        "id": "8ZFuBgp8AZmo",
        "colab_type": "code",
        "colab": {}
      },
      "source": [
        "from numpy import savez_compressed"
      ],
      "execution_count": 25,
      "outputs": []
    },
    {
      "cell_type": "code",
      "metadata": {
        "id": "SthN6gysAsfl",
        "colab_type": "code",
        "colab": {}
      },
      "source": [
        "# save arrays to one file in compressed format\n",
        "savez_compressed('car_data.npz',x_train, y_train, x_test, y_test, x_val,y_val)"
      ],
      "execution_count": 26,
      "outputs": []
    },
    {
      "cell_type": "code",
      "metadata": {
        "id": "XZ63DiSnBfiK",
        "colab_type": "code",
        "colab": {}
      },
      "source": [
        "from numpy import load"
      ],
      "execution_count": 27,
      "outputs": []
    },
    {
      "cell_type": "code",
      "metadata": {
        "id": "8RDGO2MUCE6h",
        "colab_type": "code",
        "colab": {}
      },
      "source": [
        "# load the face dataset\n",
        "data = load('car_data.npz')"
      ],
      "execution_count": 28,
      "outputs": []
    },
    {
      "cell_type": "code",
      "metadata": {
        "id": "QcFS8p8fCLYq",
        "colab_type": "code",
        "colab": {}
      },
      "source": [
        "x_train, y_train, x_test, y_test, x_val,y_val=data['arr_0'], data['arr_1'], data['arr_2'], data['arr_3'], data['arr_4'], data['arr_5']"
      ],
      "execution_count": 29,
      "outputs": []
    },
    {
      "cell_type": "code",
      "metadata": {
        "id": "LbhdSOiUCPt3",
        "colab_type": "code",
        "colab": {
          "base_uri": "https://localhost:8080/",
          "height": 35
        },
        "outputId": "a243023f-f65c-4764-8a19-28b61505e37f"
      },
      "source": [
        "x_train.shape"
      ],
      "execution_count": 30,
      "outputs": [
        {
          "output_type": "execute_result",
          "data": {
            "text/plain": [
              "(1040, 300, 300, 3)"
            ]
          },
          "metadata": {
            "tags": []
          },
          "execution_count": 30
        }
      ]
    },
    {
      "cell_type": "code",
      "metadata": {
        "id": "TuuWXNxICu9Q",
        "colab_type": "code",
        "colab": {
          "base_uri": "https://localhost:8080/",
          "height": 35
        },
        "outputId": "76155c9a-92a1-4c5e-96a0-1dcf22e0f806"
      },
      "source": [
        "y_train.shape"
      ],
      "execution_count": 31,
      "outputs": [
        {
          "output_type": "execute_result",
          "data": {
            "text/plain": [
              "(1040,)"
            ]
          },
          "metadata": {
            "tags": []
          },
          "execution_count": 31
        }
      ]
    },
    {
      "cell_type": "code",
      "metadata": {
        "id": "933TPtyVDs59",
        "colab_type": "code",
        "colab": {
          "base_uri": "https://localhost:8080/",
          "height": 35
        },
        "outputId": "e1d5c136-782b-41b3-e568-2c0b6c193cc6"
      },
      "source": [
        "y_val.shape"
      ],
      "execution_count": 32,
      "outputs": [
        {
          "output_type": "execute_result",
          "data": {
            "text/plain": [
              "(275,)"
            ]
          },
          "metadata": {
            "tags": []
          },
          "execution_count": 32
        }
      ]
    },
    {
      "cell_type": "code",
      "metadata": {
        "id": "tg3DdF-ICytM",
        "colab_type": "code",
        "colab": {}
      },
      "source": [
        "# baseline cnn model for fashion mnist\n",
        "from numpy import mean\n",
        "from numpy import std\n",
        "from matplotlib import pyplot\n",
        "from sklearn.model_selection import KFold\n",
        "from keras.datasets import fashion_mnist\n",
        "from keras.utils import to_categorical\n",
        "from keras.models import Sequential\n",
        "from keras.layers import Conv2D\n",
        "from keras.layers import MaxPooling2D\n",
        "from keras.layers import Dense\n",
        "from keras.layers import Flatten\n",
        "from keras.optimizers import SGD"
      ],
      "execution_count": 33,
      "outputs": []
    },
    {
      "cell_type": "code",
      "metadata": {
        "id": "8ldI_BZzE80z",
        "colab_type": "code",
        "colab": {
          "base_uri": "https://localhost:8080/",
          "height": 70
        },
        "outputId": "7fba9973-246f-4be5-f10a-36b8224c885b"
      },
      "source": [
        "import numpy\n",
        "numpy.unique(y_train)"
      ],
      "execution_count": 34,
      "outputs": [
        {
          "output_type": "execute_result",
          "data": {
            "text/plain": [
              "array(['Damaged', 'No Damaged', 'bumper_dent', 'bumper_scratch',\n",
              "       'door_dent', 'door_scratch', 'glass_shatter', 'head_lamp',\n",
              "       'tail_lamp'], dtype='<U14')"
            ]
          },
          "metadata": {
            "tags": []
          },
          "execution_count": 34
        }
      ]
    },
    {
      "cell_type": "code",
      "metadata": {
        "id": "vR6bvUrBFWNr",
        "colab_type": "code",
        "colab": {}
      },
      "source": [
        "from sklearn import preprocessing\n",
        "le = preprocessing.LabelEncoder()"
      ],
      "execution_count": 36,
      "outputs": []
    },
    {
      "cell_type": "code",
      "metadata": {
        "id": "0WMrbvtGFhGx",
        "colab_type": "code",
        "colab": {}
      },
      "source": [
        "y_train=le.fit_transform(y_train)"
      ],
      "execution_count": 37,
      "outputs": []
    },
    {
      "cell_type": "code",
      "metadata": {
        "id": "99D9Uf4pFhDU",
        "colab_type": "code",
        "colab": {
          "base_uri": "https://localhost:8080/",
          "height": 35
        },
        "outputId": "36d28ba2-248f-4f88-9ad4-892a5ddaf215"
      },
      "source": [
        "numpy.unique(y_train)"
      ],
      "execution_count": 38,
      "outputs": [
        {
          "output_type": "execute_result",
          "data": {
            "text/plain": [
              "array([0, 1, 2, 3, 4, 5, 6, 7, 8])"
            ]
          },
          "metadata": {
            "tags": []
          },
          "execution_count": 38
        }
      ]
    },
    {
      "cell_type": "code",
      "metadata": {
        "id": "E4ShHN_ZF2Ys",
        "colab_type": "code",
        "colab": {}
      },
      "source": [
        "k=numpy.unique(y_train)"
      ],
      "execution_count": 42,
      "outputs": []
    },
    {
      "cell_type": "code",
      "metadata": {
        "id": "-hIbUEALF2dm",
        "colab_type": "code",
        "colab": {
          "base_uri": "https://localhost:8080/",
          "height": 70
        },
        "outputId": "e7c7f2b0-2adf-446a-ca12-9d83ce2f3280"
      },
      "source": [
        "le.inverse_transform(k)"
      ],
      "execution_count": 43,
      "outputs": [
        {
          "output_type": "execute_result",
          "data": {
            "text/plain": [
              "array(['Damaged', 'No Damaged', 'bumper_dent', 'bumper_scratch',\n",
              "       'door_dent', 'door_scratch', 'glass_shatter', 'head_lamp',\n",
              "       'tail_lamp'], dtype='<U14')"
            ]
          },
          "metadata": {
            "tags": []
          },
          "execution_count": 43
        }
      ]
    },
    {
      "cell_type": "code",
      "metadata": {
        "id": "FMLEzJXeGGzn",
        "colab_type": "code",
        "colab": {}
      },
      "source": [
        "y_test=le.fit_transform(y_test)"
      ],
      "execution_count": 44,
      "outputs": []
    },
    {
      "cell_type": "code",
      "metadata": {
        "id": "pobbbbYCDVnp",
        "colab_type": "code",
        "colab": {}
      },
      "source": [
        "y_train = to_categorical(y_train)\n",
        "y_test = to_categorical(y_test)"
      ],
      "execution_count": 45,
      "outputs": []
    },
    {
      "cell_type": "code",
      "metadata": {
        "id": "eWd2hYG4EoJI",
        "colab_type": "code",
        "colab": {}
      },
      "source": [
        "train_norm = x_train.astype('float32')\n",
        "test_norm = x_test.astype('float32')"
      ],
      "execution_count": 46,
      "outputs": []
    },
    {
      "cell_type": "code",
      "metadata": {
        "id": "aAmnnr39yIVT",
        "colab_type": "code",
        "colab": {}
      },
      "source": [
        ""
      ],
      "execution_count": null,
      "outputs": []
    },
    {
      "cell_type": "code",
      "metadata": {
        "id": "qIWkKPdpGat-",
        "colab_type": "code",
        "colab": {}
      },
      "source": [
        "train_norm = train_norm / 255.0\n",
        "test_norm = test_norm / 255.0"
      ],
      "execution_count": 47,
      "outputs": []
    },
    {
      "cell_type": "code",
      "metadata": {
        "id": "mZee2efQGetT",
        "colab_type": "code",
        "colab": {
          "base_uri": "https://localhost:8080/",
          "height": 35
        },
        "outputId": "fae8d628-52b1-4e27-c612-9a7ed0e6050b"
      },
      "source": [
        "train_norm[0].shape"
      ],
      "execution_count": 48,
      "outputs": [
        {
          "output_type": "execute_result",
          "data": {
            "text/plain": [
              "(300, 300, 3)"
            ]
          },
          "metadata": {
            "tags": []
          },
          "execution_count": 48
        }
      ]
    },
    {
      "cell_type": "code",
      "metadata": {
        "id": "FIWriFF9Gm_t",
        "colab_type": "code",
        "colab": {}
      },
      "source": [
        "# example of using the vgg16 model as a feature extraction model\n",
        "from keras.preprocessing.image import load_img\n",
        "from keras.preprocessing.image import img_to_array\n",
        "from keras.applications.vgg16 import preprocess_input\n",
        "from keras.applications.vgg16 import VGG16\n",
        "from keras.models import Model\n",
        "from pickle import dump"
      ],
      "execution_count": 49,
      "outputs": []
    },
    {
      "cell_type": "code",
      "metadata": {
        "id": "SGhK2Qb8I04U",
        "colab_type": "code",
        "colab": {}
      },
      "source": [
        "from keras.models import Model\n",
        "from keras.layers import Input\n",
        "from keras.layers import Conv2D\n",
        "from keras.layers import MaxPooling2D\n",
        "from keras.utils import plot_model\n",
        "# baseline cnn model for fashion mnist\n",
        "from numpy import mean\n",
        "from numpy import std\n",
        "from matplotlib import pyplot\n",
        "from sklearn.model_selection import KFold\n",
        "from keras.datasets import fashion_mnist\n",
        "from keras.utils import to_categorical\n",
        "from keras.models import Sequential\n",
        "from keras.layers import Conv2D\n",
        "from keras.layers import MaxPooling2D\n",
        "from keras.layers import Dense\n",
        "from keras.layers import Flatten\n",
        "from keras.optimizers import SGD"
      ],
      "execution_count": 50,
      "outputs": []
    },
    {
      "cell_type": "code",
      "metadata": {
        "id": "i92Nw4l-JDlb",
        "colab_type": "code",
        "colab": {}
      },
      "source": [
        "from matplotlib import pyplot"
      ],
      "execution_count": 53,
      "outputs": []
    },
    {
      "cell_type": "code",
      "metadata": {
        "id": "XV1kCx5LJT-6",
        "colab_type": "code",
        "colab": {}
      },
      "source": [
        "# example of loading the vgg16 model\n",
        "from keras.applications.vgg16 import VGG16"
      ],
      "execution_count": 56,
      "outputs": []
    },
    {
      "cell_type": "code",
      "metadata": {
        "id": "aCefWflXHCcW",
        "colab_type": "code",
        "colab": {
          "base_uri": "https://localhost:8080/",
          "height": 72
        },
        "outputId": "2095e13c-9d1d-4adb-acf7-c553e59fdea9"
      },
      "source": [
        "# load model without classifier layers\n",
        "model = VGG16(include_top=False, input_shape=(300, 300, 3))"
      ],
      "execution_count": 57,
      "outputs": [
        {
          "output_type": "stream",
          "text": [
            "Downloading data from https://storage.googleapis.com/tensorflow/keras-applications/vgg16/vgg16_weights_tf_dim_ordering_tf_kernels_notop.h5\n",
            "58892288/58889256 [==============================] - 0s 0us/step\n"
          ],
          "name": "stdout"
        }
      ]
    },
    {
      "cell_type": "code",
      "metadata": {
        "id": "iH8WnxO1vWEf",
        "colab_type": "code",
        "colab": {}
      },
      "source": [
        "# define cnn model\n",
        "def define_model():\n",
        "# load model\n",
        "  model = VGG16(include_top=False, input_shape=(300, 300, 3))\n",
        "# mark loaded layers as not trainable\n",
        "  for layer in model.layers:\n",
        "    layer.trainable = False\n",
        "# add new classifier layers\n",
        "  flat1 = Flatten()(model.layers[-1].output)\n",
        "  class1 = Dense(128, activation=\"relu\", kernel_initializer=\"he_uniform\")(flat1)\n",
        "  output = Dense(9, activation=\"softmax\")(class1)\n",
        "# define new model\n",
        "  model = Model(inputs=model.inputs, outputs=output)\n",
        "# compile model\n",
        "  opt = SGD(lr=0.001, momentum=0.9)\n",
        "  model.compile(optimizer=opt, loss=\"categorical_crossentropy\", metrics=[\"accuracy\"])\n",
        "  return model"
      ],
      "execution_count": 81,
      "outputs": []
    },
    {
      "cell_type": "code",
      "metadata": {
        "id": "P4fRp6_aw1KF",
        "colab_type": "code",
        "colab": {}
      },
      "source": [
        "k1=define_model()"
      ],
      "execution_count": 82,
      "outputs": []
    },
    {
      "cell_type": "code",
      "metadata": {
        "id": "8EKEBp3LxhpP",
        "colab_type": "code",
        "colab": {
          "base_uri": "https://localhost:8080/",
          "height": 941
        },
        "outputId": "b26eb9c6-5c41-46b9-9416-7a21cafdd71f"
      },
      "source": [
        "k1.summary()"
      ],
      "execution_count": 83,
      "outputs": [
        {
          "output_type": "stream",
          "text": [
            "Model: \"functional_10\"\n",
            "_________________________________________________________________\n",
            "Layer (type)                 Output Shape              Param #   \n",
            "=================================================================\n",
            "input_4 (InputLayer)         [(None, 300, 300, 3)]     0         \n",
            "_________________________________________________________________\n",
            "block1_conv1 (Conv2D)        (None, 300, 300, 64)      1792      \n",
            "_________________________________________________________________\n",
            "block1_conv2 (Conv2D)        (None, 300, 300, 64)      36928     \n",
            "_________________________________________________________________\n",
            "block1_pool (MaxPooling2D)   (None, 150, 150, 64)      0         \n",
            "_________________________________________________________________\n",
            "block2_conv1 (Conv2D)        (None, 150, 150, 128)     73856     \n",
            "_________________________________________________________________\n",
            "block2_conv2 (Conv2D)        (None, 150, 150, 128)     147584    \n",
            "_________________________________________________________________\n",
            "block2_pool (MaxPooling2D)   (None, 75, 75, 128)       0         \n",
            "_________________________________________________________________\n",
            "block3_conv1 (Conv2D)        (None, 75, 75, 256)       295168    \n",
            "_________________________________________________________________\n",
            "block3_conv2 (Conv2D)        (None, 75, 75, 256)       590080    \n",
            "_________________________________________________________________\n",
            "block3_conv3 (Conv2D)        (None, 75, 75, 256)       590080    \n",
            "_________________________________________________________________\n",
            "block3_pool (MaxPooling2D)   (None, 37, 37, 256)       0         \n",
            "_________________________________________________________________\n",
            "block4_conv1 (Conv2D)        (None, 37, 37, 512)       1180160   \n",
            "_________________________________________________________________\n",
            "block4_conv2 (Conv2D)        (None, 37, 37, 512)       2359808   \n",
            "_________________________________________________________________\n",
            "block4_conv3 (Conv2D)        (None, 37, 37, 512)       2359808   \n",
            "_________________________________________________________________\n",
            "block4_pool (MaxPooling2D)   (None, 18, 18, 512)       0         \n",
            "_________________________________________________________________\n",
            "block5_conv1 (Conv2D)        (None, 18, 18, 512)       2359808   \n",
            "_________________________________________________________________\n",
            "block5_conv2 (Conv2D)        (None, 18, 18, 512)       2359808   \n",
            "_________________________________________________________________\n",
            "block5_conv3 (Conv2D)        (None, 18, 18, 512)       2359808   \n",
            "_________________________________________________________________\n",
            "block5_pool (MaxPooling2D)   (None, 9, 9, 512)         0         \n",
            "_________________________________________________________________\n",
            "flatten_2 (Flatten)          (None, 41472)             0         \n",
            "_________________________________________________________________\n",
            "dense_10 (Dense)             (None, 128)               5308544   \n",
            "_________________________________________________________________\n",
            "dense_11 (Dense)             (None, 9)                 1161      \n",
            "=================================================================\n",
            "Total params: 20,024,393\n",
            "Trainable params: 5,309,705\n",
            "Non-trainable params: 14,714,688\n",
            "_________________________________________________________________\n"
          ],
          "name": "stdout"
        }
      ]
    },
    {
      "cell_type": "code",
      "metadata": {
        "id": "by78_TFiyTh1",
        "colab_type": "code",
        "colab": {}
      },
      "source": [
        "#train_norm,test_norm,y_train,y_test"
      ],
      "execution_count": 84,
      "outputs": []
    },
    {
      "cell_type": "code",
      "metadata": {
        "id": "VviAHgOnx4wz",
        "colab_type": "code",
        "colab": {
          "base_uri": "https://localhost:8080/",
          "height": 35
        },
        "outputId": "b855d14b-f961-48cc-92a4-182ccd51fbd9"
      },
      "source": [
        "k1.fit(train_norm, y_train, epochs=20, batch_size=64, validation_data=(test_norm, y_test), verbose=0)"
      ],
      "execution_count": 85,
      "outputs": [
        {
          "output_type": "execute_result",
          "data": {
            "text/plain": [
              "<tensorflow.python.keras.callbacks.History at 0x7f4a9b127a20>"
            ]
          },
          "metadata": {
            "tags": []
          },
          "execution_count": 85
        }
      ]
    },
    {
      "cell_type": "code",
      "metadata": {
        "id": "ZFuAJVk8x82g",
        "colab_type": "code",
        "colab": {
          "base_uri": "https://localhost:8080/",
          "height": 35
        },
        "outputId": "ba251ff3-2c4a-4ac6-f7e3-8e9eb9281a9d"
      },
      "source": [
        "test_norm[0].shape"
      ],
      "execution_count": 86,
      "outputs": [
        {
          "output_type": "execute_result",
          "data": {
            "text/plain": [
              "(300, 300, 3)"
            ]
          },
          "metadata": {
            "tags": []
          },
          "execution_count": 86
        }
      ]
    },
    {
      "cell_type": "code",
      "metadata": {
        "id": "0E-Fd_Xvx8yb",
        "colab_type": "code",
        "colab": {}
      },
      "source": [
        "k=test_norm[0]"
      ],
      "execution_count": 87,
      "outputs": []
    },
    {
      "cell_type": "code",
      "metadata": {
        "id": "M2_TCOkFtrAy",
        "colab_type": "code",
        "colab": {}
      },
      "source": [
        "k = k.reshape((1,300, 300, 3))"
      ],
      "execution_count": 89,
      "outputs": []
    },
    {
      "cell_type": "code",
      "metadata": {
        "id": "zeVbopLgMCGB",
        "colab_type": "code",
        "colab": {
          "base_uri": "https://localhost:8080/",
          "height": 35
        },
        "outputId": "2cfe614a-df6d-4ba0-ab02-db14caafb5b1"
      },
      "source": [
        "a=2\n",
        "a"
      ],
      "execution_count": 95,
      "outputs": [
        {
          "output_type": "execute_result",
          "data": {
            "text/plain": [
              "2"
            ]
          },
          "metadata": {
            "tags": []
          },
          "execution_count": 95
        }
      ]
    },
    {
      "cell_type": "code",
      "metadata": {
        "id": "e6ZSS4vsLdqI",
        "colab_type": "code",
        "colab": {}
      },
      "source": [
        "_, acc =k1.evaluate(test_norm, y_test, verbose=0)"
      ],
      "execution_count": 97,
      "outputs": []
    },
    {
      "cell_type": "code",
      "metadata": {
        "id": "ml4eAZ63L5Jl",
        "colab_type": "code",
        "colab": {
          "base_uri": "https://localhost:8080/",
          "height": 35
        },
        "outputId": "98d918ca-4bc0-4cd9-c075-e1c27c126082"
      },
      "source": [
        "acc"
      ],
      "execution_count": 98,
      "outputs": [
        {
          "output_type": "execute_result",
          "data": {
            "text/plain": [
              "0.6944444179534912"
            ]
          },
          "metadata": {
            "tags": []
          },
          "execution_count": 98
        }
      ]
    },
    {
      "cell_type": "code",
      "metadata": {
        "id": "8sKNwrKmND5p",
        "colab_type": "code",
        "colab": {}
      },
      "source": [
        ""
      ],
      "execution_count": null,
      "outputs": []
    }
  ]
}